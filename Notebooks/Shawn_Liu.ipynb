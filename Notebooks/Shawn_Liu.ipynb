{
 "cells": [
  {
   "cell_type": "code",
   "execution_count": 4,
   "metadata": {},
   "outputs": [],
   "source": [
    "import numpy as np\n",
    "import pandas as pd\n",
    "import matplotlib.pyplot as plt\n",
    "import seaborn as sns"
   ]
  },
  {
   "cell_type": "code",
   "execution_count": 5,
   "metadata": {},
   "outputs": [],
   "source": [
    "from sklearn.metrics import mean_squared_error, r2_score\n",
    "\n",
    "from sklearn.model_selection import train_test_split, cross_val_score"
   ]
  },
  {
   "cell_type": "code",
   "execution_count": 6,
   "metadata": {},
   "outputs": [],
   "source": [
    "df = pd.read_csv(\"D:/Kaggle Dataset/us-accidents/US_Accidents_June20.csv\",index_col='ID',parse_dates=['Start_Time','End_Time'])"
   ]
  },
  {
   "cell_type": "code",
   "execution_count": 7,
   "metadata": {},
   "outputs": [],
   "source": [
    "from datetime import datetime, date"
   ]
  },
  {
   "cell_type": "code",
   "execution_count": 8,
   "metadata": {},
   "outputs": [],
   "source": [
    "# adding time variables\n",
    "\n",
    "df['Month'] = df['Start_Time'].dt.month\n",
    "df['Year'] = df['Start_Time'].dt.year\n",
    "df['Hour'] = df['Start_Time'].dt.hour\n",
    "df['Weekday'] = df['Start_Time'].dt.weekday\n",
    "df['Day'] = df['Start_Time'].dt.day\n",
    "df['Impact'] = (df['End_Time'] - df['Start_Time']).dt.total_seconds()/60\n",
    "df[\"YMD\"] = df[\"Start_Time\"].dt.date"
   ]
  },
  {
   "cell_type": "code",
   "execution_count": null,
   "metadata": {},
   "outputs": [],
   "source": []
  },
  {
   "cell_type": "code",
   "execution_count": 9,
   "metadata": {},
   "outputs": [],
   "source": [
    "numerical_features = ['Start_Lat','Start_Lng','Distance(mi)','Temperature(F)',\n",
    "                     'Humidity(%)', 'Pressure(in)','Visibility(mi)','Wind_Speed(mph)','Precipitation(in)']\n",
    "\n",
    "\n",
    "binary_features = ['Amenity', 'Bump', 'Crossing','Give_Way', 'Junction', 'No_Exit', 'Railway', 'Roundabout',\n",
    "                   'Station','Stop', 'Traffic_Calming', 'Traffic_Signal', 'Turning_Loop','Sunrise_Sunset']\n",
    "\n",
    "categorical_features = ['Street', 'Side', 'City', 'County', 'State','Country', 'Timezone','Weather_Condition',\n",
    "                       'Month', 'Year', 'Hour', 'Weekday', 'Day']"
   ]
  },
  {
   "cell_type": "code",
   "execution_count": 10,
   "metadata": {},
   "outputs": [],
   "source": [
    "# transform the categorical variables into binary variables\n",
    "\n",
    "df.loc[df[\"Sunrise_Sunset\"] == \"Day\",\"Sunrise_Sunset\"] = 1\n",
    "df.loc[df[\"Sunrise_Sunset\"] == \"Night\",\"Sunrise_Sunset\"] = 0"
   ]
  },
  {
   "cell_type": "code",
   "execution_count": 11,
   "metadata": {},
   "outputs": [],
   "source": [
    "MA_df = df[df[\"State\"] == \"MA\"]"
   ]
  },
  {
   "cell_type": "code",
   "execution_count": null,
   "metadata": {},
   "outputs": [],
   "source": []
  },
  {
   "cell_type": "code",
   "execution_count": 191,
   "metadata": {},
   "outputs": [],
   "source": [
    "sev_count = df.groupby(\"State\")[\"Severity\"].value_counts()"
   ]
  },
  {
   "cell_type": "code",
   "execution_count": 192,
   "metadata": {},
   "outputs": [
    {
     "data": {
      "text/html": [
       "<div>\n",
       "<style scoped>\n",
       "    .dataframe tbody tr th:only-of-type {\n",
       "        vertical-align: middle;\n",
       "    }\n",
       "\n",
       "    .dataframe tbody tr th {\n",
       "        vertical-align: top;\n",
       "    }\n",
       "\n",
       "    .dataframe thead th {\n",
       "        text-align: right;\n",
       "    }\n",
       "</style>\n",
       "<table border=\"1\" class=\"dataframe\">\n",
       "  <thead>\n",
       "    <tr style=\"text-align: right;\">\n",
       "      <th>Severity</th>\n",
       "      <th>1</th>\n",
       "      <th>2</th>\n",
       "      <th>3</th>\n",
       "      <th>4</th>\n",
       "    </tr>\n",
       "    <tr>\n",
       "      <th>State</th>\n",
       "      <th></th>\n",
       "      <th></th>\n",
       "      <th></th>\n",
       "      <th></th>\n",
       "    </tr>\n",
       "  </thead>\n",
       "  <tbody>\n",
       "    <tr>\n",
       "      <th>AL</th>\n",
       "      <td>133.0</td>\n",
       "      <td>30002.0</td>\n",
       "      <td>13890.0</td>\n",
       "      <td>600.0</td>\n",
       "    </tr>\n",
       "    <tr>\n",
       "      <th>AR</th>\n",
       "      <td>11.0</td>\n",
       "      <td>1011.0</td>\n",
       "      <td>488.0</td>\n",
       "      <td>502.0</td>\n",
       "    </tr>\n",
       "    <tr>\n",
       "      <th>AZ</th>\n",
       "      <td>6705.0</td>\n",
       "      <td>55089.0</td>\n",
       "      <td>13178.0</td>\n",
       "      <td>3612.0</td>\n",
       "    </tr>\n",
       "    <tr>\n",
       "      <th>CA</th>\n",
       "      <td>5801.0</td>\n",
       "      <td>576742.0</td>\n",
       "      <td>225820.0</td>\n",
       "      <td>8462.0</td>\n",
       "    </tr>\n",
       "    <tr>\n",
       "      <th>CO</th>\n",
       "      <td>519.0</td>\n",
       "      <td>25516.0</td>\n",
       "      <td>19888.0</td>\n",
       "      <td>3808.0</td>\n",
       "    </tr>\n",
       "    <tr>\n",
       "      <th>CT</th>\n",
       "      <td>22.0</td>\n",
       "      <td>12002.0</td>\n",
       "      <td>11632.0</td>\n",
       "      <td>2245.0</td>\n",
       "    </tr>\n",
       "    <tr>\n",
       "      <th>DC</th>\n",
       "      <td>43.0</td>\n",
       "      <td>2991.0</td>\n",
       "      <td>1099.0</td>\n",
       "      <td>687.0</td>\n",
       "    </tr>\n",
       "    <tr>\n",
       "      <th>DE</th>\n",
       "      <td>10.0</td>\n",
       "      <td>4288.0</td>\n",
       "      <td>629.0</td>\n",
       "      <td>812.0</td>\n",
       "    </tr>\n",
       "    <tr>\n",
       "      <th>FL</th>\n",
       "      <td>3014.0</td>\n",
       "      <td>165506.0</td>\n",
       "      <td>80563.0</td>\n",
       "      <td>8919.0</td>\n",
       "    </tr>\n",
       "    <tr>\n",
       "      <th>GA</th>\n",
       "      <td>406.0</td>\n",
       "      <td>38922.0</td>\n",
       "      <td>46837.0</td>\n",
       "      <td>7449.0</td>\n",
       "    </tr>\n",
       "    <tr>\n",
       "      <th>IA</th>\n",
       "      <td>6.0</td>\n",
       "      <td>5088.0</td>\n",
       "      <td>5460.0</td>\n",
       "      <td>921.0</td>\n",
       "    </tr>\n",
       "    <tr>\n",
       "      <th>ID</th>\n",
       "      <td>NaN</td>\n",
       "      <td>1594.0</td>\n",
       "      <td>207.0</td>\n",
       "      <td>243.0</td>\n",
       "    </tr>\n",
       "    <tr>\n",
       "      <th>IL</th>\n",
       "      <td>265.0</td>\n",
       "      <td>63401.0</td>\n",
       "      <td>32652.0</td>\n",
       "      <td>3374.0</td>\n",
       "    </tr>\n",
       "    <tr>\n",
       "      <th>IN</th>\n",
       "      <td>60.0</td>\n",
       "      <td>19925.0</td>\n",
       "      <td>10960.0</td>\n",
       "      <td>2801.0</td>\n",
       "    </tr>\n",
       "    <tr>\n",
       "      <th>KS</th>\n",
       "      <td>5.0</td>\n",
       "      <td>3571.0</td>\n",
       "      <td>3947.0</td>\n",
       "      <td>416.0</td>\n",
       "    </tr>\n",
       "    <tr>\n",
       "      <th>KY</th>\n",
       "      <td>40.0</td>\n",
       "      <td>11920.0</td>\n",
       "      <td>9745.0</td>\n",
       "      <td>848.0</td>\n",
       "    </tr>\n",
       "    <tr>\n",
       "      <th>LA</th>\n",
       "      <td>1262.0</td>\n",
       "      <td>47099.0</td>\n",
       "      <td>11925.0</td>\n",
       "      <td>1229.0</td>\n",
       "    </tr>\n",
       "    <tr>\n",
       "      <th>MA</th>\n",
       "      <td>183.0</td>\n",
       "      <td>23452.0</td>\n",
       "      <td>15019.0</td>\n",
       "      <td>390.0</td>\n",
       "    </tr>\n",
       "    <tr>\n",
       "      <th>MD</th>\n",
       "      <td>305.0</td>\n",
       "      <td>26051.0</td>\n",
       "      <td>21359.0</td>\n",
       "      <td>5878.0</td>\n",
       "    </tr>\n",
       "    <tr>\n",
       "      <th>ME</th>\n",
       "      <td>1.0</td>\n",
       "      <td>2065.0</td>\n",
       "      <td>75.0</td>\n",
       "      <td>102.0</td>\n",
       "    </tr>\n",
       "    <tr>\n",
       "      <th>MI</th>\n",
       "      <td>57.0</td>\n",
       "      <td>57060.0</td>\n",
       "      <td>33542.0</td>\n",
       "      <td>5324.0</td>\n",
       "    </tr>\n",
       "    <tr>\n",
       "      <th>MN</th>\n",
       "      <td>41.0</td>\n",
       "      <td>53538.0</td>\n",
       "      <td>27817.0</td>\n",
       "      <td>467.0</td>\n",
       "    </tr>\n",
       "    <tr>\n",
       "      <th>MO</th>\n",
       "      <td>70.0</td>\n",
       "      <td>13868.0</td>\n",
       "      <td>18014.0</td>\n",
       "      <td>1691.0</td>\n",
       "    </tr>\n",
       "    <tr>\n",
       "      <th>MS</th>\n",
       "      <td>5.0</td>\n",
       "      <td>3639.0</td>\n",
       "      <td>2636.0</td>\n",
       "      <td>305.0</td>\n",
       "    </tr>\n",
       "    <tr>\n",
       "      <th>MT</th>\n",
       "      <td>NaN</td>\n",
       "      <td>264.0</td>\n",
       "      <td>141.0</td>\n",
       "      <td>107.0</td>\n",
       "    </tr>\n",
       "    <tr>\n",
       "      <th>NC</th>\n",
       "      <td>1806.0</td>\n",
       "      <td>139050.0</td>\n",
       "      <td>22047.0</td>\n",
       "      <td>3055.0</td>\n",
       "    </tr>\n",
       "    <tr>\n",
       "      <th>ND</th>\n",
       "      <td>NaN</td>\n",
       "      <td>21.0</td>\n",
       "      <td>12.0</td>\n",
       "      <td>11.0</td>\n",
       "    </tr>\n",
       "    <tr>\n",
       "      <th>NE</th>\n",
       "      <td>38.0</td>\n",
       "      <td>20009.0</td>\n",
       "      <td>3637.0</td>\n",
       "      <td>286.0</td>\n",
       "    </tr>\n",
       "    <tr>\n",
       "      <th>NH</th>\n",
       "      <td>4.0</td>\n",
       "      <td>6352.0</td>\n",
       "      <td>1444.0</td>\n",
       "      <td>184.0</td>\n",
       "    </tr>\n",
       "    <tr>\n",
       "      <th>NJ</th>\n",
       "      <td>93.0</td>\n",
       "      <td>39160.0</td>\n",
       "      <td>16040.0</td>\n",
       "      <td>3766.0</td>\n",
       "    </tr>\n",
       "    <tr>\n",
       "      <th>NM</th>\n",
       "      <td>48.0</td>\n",
       "      <td>3020.0</td>\n",
       "      <td>2093.0</td>\n",
       "      <td>362.0</td>\n",
       "    </tr>\n",
       "    <tr>\n",
       "      <th>NV</th>\n",
       "      <td>3.0</td>\n",
       "      <td>6986.0</td>\n",
       "      <td>3202.0</td>\n",
       "      <td>452.0</td>\n",
       "    </tr>\n",
       "    <tr>\n",
       "      <th>NY</th>\n",
       "      <td>727.0</td>\n",
       "      <td>96064.0</td>\n",
       "      <td>56889.0</td>\n",
       "      <td>7137.0</td>\n",
       "    </tr>\n",
       "    <tr>\n",
       "      <th>OH</th>\n",
       "      <td>526.0</td>\n",
       "      <td>41120.0</td>\n",
       "      <td>18904.0</td>\n",
       "      <td>5589.0</td>\n",
       "    </tr>\n",
       "    <tr>\n",
       "      <th>OK</th>\n",
       "      <td>72.0</td>\n",
       "      <td>53599.0</td>\n",
       "      <td>5892.0</td>\n",
       "      <td>440.0</td>\n",
       "    </tr>\n",
       "    <tr>\n",
       "      <th>OR</th>\n",
       "      <td>1263.0</td>\n",
       "      <td>77747.0</td>\n",
       "      <td>8073.0</td>\n",
       "      <td>3039.0</td>\n",
       "    </tr>\n",
       "    <tr>\n",
       "      <th>PA</th>\n",
       "      <td>219.0</td>\n",
       "      <td>78724.0</td>\n",
       "      <td>22124.0</td>\n",
       "      <td>5720.0</td>\n",
       "    </tr>\n",
       "    <tr>\n",
       "      <th>RI</th>\n",
       "      <td>71.0</td>\n",
       "      <td>5567.0</td>\n",
       "      <td>6000.0</td>\n",
       "      <td>115.0</td>\n",
       "    </tr>\n",
       "    <tr>\n",
       "      <th>SC</th>\n",
       "      <td>116.0</td>\n",
       "      <td>137371.0</td>\n",
       "      <td>34620.0</td>\n",
       "      <td>1170.0</td>\n",
       "    </tr>\n",
       "    <tr>\n",
       "      <th>SD</th>\n",
       "      <td>NaN</td>\n",
       "      <td>17.0</td>\n",
       "      <td>8.0</td>\n",
       "      <td>36.0</td>\n",
       "    </tr>\n",
       "    <tr>\n",
       "      <th>TN</th>\n",
       "      <td>1453.0</td>\n",
       "      <td>45942.0</td>\n",
       "      <td>20808.0</td>\n",
       "      <td>1692.0</td>\n",
       "    </tr>\n",
       "    <tr>\n",
       "      <th>TX</th>\n",
       "      <td>1070.0</td>\n",
       "      <td>233840.0</td>\n",
       "      <td>89667.0</td>\n",
       "      <td>4707.0</td>\n",
       "    </tr>\n",
       "    <tr>\n",
       "      <th>UT</th>\n",
       "      <td>395.0</td>\n",
       "      <td>38562.0</td>\n",
       "      <td>11379.0</td>\n",
       "      <td>1349.0</td>\n",
       "    </tr>\n",
       "    <tr>\n",
       "      <th>VA</th>\n",
       "      <td>1739.0</td>\n",
       "      <td>51639.0</td>\n",
       "      <td>37187.0</td>\n",
       "      <td>5510.0</td>\n",
       "    </tr>\n",
       "    <tr>\n",
       "      <th>VT</th>\n",
       "      <td>1.0</td>\n",
       "      <td>486.0</td>\n",
       "      <td>146.0</td>\n",
       "      <td>69.0</td>\n",
       "    </tr>\n",
       "    <tr>\n",
       "      <th>WA</th>\n",
       "      <td>531.0</td>\n",
       "      <td>41732.0</td>\n",
       "      <td>23234.0</td>\n",
       "      <td>3047.0</td>\n",
       "    </tr>\n",
       "    <tr>\n",
       "      <th>WI</th>\n",
       "      <td>33.0</td>\n",
       "      <td>10077.0</td>\n",
       "      <td>7302.0</td>\n",
       "      <td>2708.0</td>\n",
       "    </tr>\n",
       "    <tr>\n",
       "      <th>WV</th>\n",
       "      <td>2.0</td>\n",
       "      <td>1388.0</td>\n",
       "      <td>504.0</td>\n",
       "      <td>487.0</td>\n",
       "    </tr>\n",
       "    <tr>\n",
       "      <th>WY</th>\n",
       "      <td>NaN</td>\n",
       "      <td>133.0</td>\n",
       "      <td>178.0</td>\n",
       "      <td>197.0</td>\n",
       "    </tr>\n",
       "  </tbody>\n",
       "</table>\n",
       "</div>"
      ],
      "text/plain": [
       "Severity       1         2         3       4\n",
       "State                                       \n",
       "AL         133.0   30002.0   13890.0   600.0\n",
       "AR          11.0    1011.0     488.0   502.0\n",
       "AZ        6705.0   55089.0   13178.0  3612.0\n",
       "CA        5801.0  576742.0  225820.0  8462.0\n",
       "CO         519.0   25516.0   19888.0  3808.0\n",
       "CT          22.0   12002.0   11632.0  2245.0\n",
       "DC          43.0    2991.0    1099.0   687.0\n",
       "DE          10.0    4288.0     629.0   812.0\n",
       "FL        3014.0  165506.0   80563.0  8919.0\n",
       "GA         406.0   38922.0   46837.0  7449.0\n",
       "IA           6.0    5088.0    5460.0   921.0\n",
       "ID           NaN    1594.0     207.0   243.0\n",
       "IL         265.0   63401.0   32652.0  3374.0\n",
       "IN          60.0   19925.0   10960.0  2801.0\n",
       "KS           5.0    3571.0    3947.0   416.0\n",
       "KY          40.0   11920.0    9745.0   848.0\n",
       "LA        1262.0   47099.0   11925.0  1229.0\n",
       "MA         183.0   23452.0   15019.0   390.0\n",
       "MD         305.0   26051.0   21359.0  5878.0\n",
       "ME           1.0    2065.0      75.0   102.0\n",
       "MI          57.0   57060.0   33542.0  5324.0\n",
       "MN          41.0   53538.0   27817.0   467.0\n",
       "MO          70.0   13868.0   18014.0  1691.0\n",
       "MS           5.0    3639.0    2636.0   305.0\n",
       "MT           NaN     264.0     141.0   107.0\n",
       "NC        1806.0  139050.0   22047.0  3055.0\n",
       "ND           NaN      21.0      12.0    11.0\n",
       "NE          38.0   20009.0    3637.0   286.0\n",
       "NH           4.0    6352.0    1444.0   184.0\n",
       "NJ          93.0   39160.0   16040.0  3766.0\n",
       "NM          48.0    3020.0    2093.0   362.0\n",
       "NV           3.0    6986.0    3202.0   452.0\n",
       "NY         727.0   96064.0   56889.0  7137.0\n",
       "OH         526.0   41120.0   18904.0  5589.0\n",
       "OK          72.0   53599.0    5892.0   440.0\n",
       "OR        1263.0   77747.0    8073.0  3039.0\n",
       "PA         219.0   78724.0   22124.0  5720.0\n",
       "RI          71.0    5567.0    6000.0   115.0\n",
       "SC         116.0  137371.0   34620.0  1170.0\n",
       "SD           NaN      17.0       8.0    36.0\n",
       "TN        1453.0   45942.0   20808.0  1692.0\n",
       "TX        1070.0  233840.0   89667.0  4707.0\n",
       "UT         395.0   38562.0   11379.0  1349.0\n",
       "VA        1739.0   51639.0   37187.0  5510.0\n",
       "VT           1.0     486.0     146.0    69.0\n",
       "WA         531.0   41732.0   23234.0  3047.0\n",
       "WI          33.0   10077.0    7302.0  2708.0\n",
       "WV           2.0    1388.0     504.0   487.0\n",
       "WY           NaN     133.0     178.0   197.0"
      ]
     },
     "execution_count": 192,
     "metadata": {},
     "output_type": "execute_result"
    }
   ],
   "source": [
    "sev_count.unstack()"
   ]
  },
  {
   "cell_type": "markdown",
   "metadata": {},
   "source": [
    "# Time Series"
   ]
  },
  {
   "cell_type": "code",
   "execution_count": 34,
   "metadata": {},
   "outputs": [],
   "source": [
    "df1 = MA_df.copy()\n",
    "df1.ffill(inplace = True)\n",
    "df1.bfill(inplace = True)"
   ]
  },
  {
   "cell_type": "code",
   "execution_count": 35,
   "metadata": {},
   "outputs": [],
   "source": [
    "daily_group = df1.groupby(\"YMD\")"
   ]
  },
  {
   "cell_type": "code",
   "execution_count": 36,
   "metadata": {},
   "outputs": [],
   "source": [
    "daily_accident_count = daily_group[\"Severity\"].count()\n",
    "daily_severity_sum = daily_group[\"Severity\"].sum()\n",
    "daily_temp_mean = daily_group[\"Temperature(F)\"].mean()\n",
    "daily_hmd = daily_group['Humidity(%)'].mean()\n",
    "daily_pres = daily_group['Pressure(in)'].mean()\n",
    "daily_vis = daily_group['Visibility(mi)'].mean()\n",
    "daily_wind = daily_group['Wind_Speed(mph)'].mean()\n",
    "daily_sun = daily_group[\"Sunrise_Sunset\"].sum()\n",
    "# daily_twi = daily_group[\"Civil_Twilight\"].sum()\n",
    "# daily_nau = daily_group[\"Nautical_Twilight\"].sum()\n",
    "# daily_ast = daily_group[\"Astronomical_Twilight\"].sum()"
   ]
  },
  {
   "cell_type": "code",
   "execution_count": 37,
   "metadata": {},
   "outputs": [],
   "source": [
    "daily_data = pd.DataFrame({\n",
    "    \"Num\" : daily_accident_count,\n",
    "    \"Severity\" : daily_severity_sum,\n",
    "    \"Temp\" : daily_temp_mean,\n",
    "    \"Humidity\" : daily_hmd,\n",
    "    \"Pressure\" : daily_pres,\n",
    "    \"Visibility\" : daily_vis,\n",
    "    \"Wind_Speed\" : daily_wind,\n",
    "    \"Sun\" : daily_sun\n",
    "#    \"Twi\" : daily_twi,\n",
    "#    \"Nau\" : daily_nau,\n",
    "#    \"Astro\" : daily_ast\n",
    "})"
   ]
  },
  {
   "cell_type": "code",
   "execution_count": 38,
   "metadata": {},
   "outputs": [],
   "source": [
    "cols = [\"Num\",\"Severity\",\"Temp\",\"Humidity\",\"Pressure\",\"Visibility\",\"Wind_Speed\",\"Sun\"]"
   ]
  },
  {
   "cell_type": "code",
   "execution_count": 39,
   "metadata": {},
   "outputs": [
    {
     "data": {
      "text/html": [
       "<div>\n",
       "<style scoped>\n",
       "    .dataframe tbody tr th:only-of-type {\n",
       "        vertical-align: middle;\n",
       "    }\n",
       "\n",
       "    .dataframe tbody tr th {\n",
       "        vertical-align: top;\n",
       "    }\n",
       "\n",
       "    .dataframe thead th {\n",
       "        text-align: right;\n",
       "    }\n",
       "</style>\n",
       "<table border=\"1\" class=\"dataframe\">\n",
       "  <thead>\n",
       "    <tr style=\"text-align: right;\">\n",
       "      <th></th>\n",
       "      <th>Num</th>\n",
       "      <th>Severity</th>\n",
       "      <th>Temp</th>\n",
       "      <th>Humidity</th>\n",
       "      <th>Pressure</th>\n",
       "      <th>Visibility</th>\n",
       "      <th>Wind_Speed</th>\n",
       "      <th>Sun</th>\n",
       "    </tr>\n",
       "    <tr>\n",
       "      <th>YMD</th>\n",
       "      <th></th>\n",
       "      <th></th>\n",
       "      <th></th>\n",
       "      <th></th>\n",
       "      <th></th>\n",
       "      <th></th>\n",
       "      <th></th>\n",
       "      <th></th>\n",
       "    </tr>\n",
       "  </thead>\n",
       "  <tbody>\n",
       "    <tr>\n",
       "      <th>2016-03-23</th>\n",
       "      <td>2</td>\n",
       "      <td>4</td>\n",
       "      <td>44.100000</td>\n",
       "      <td>68.000000</td>\n",
       "      <td>29.880000</td>\n",
       "      <td>10.000000</td>\n",
       "      <td>15.000000</td>\n",
       "      <td>0</td>\n",
       "    </tr>\n",
       "    <tr>\n",
       "      <th>2016-03-24</th>\n",
       "      <td>6</td>\n",
       "      <td>12</td>\n",
       "      <td>37.033333</td>\n",
       "      <td>51.833333</td>\n",
       "      <td>30.246667</td>\n",
       "      <td>10.000000</td>\n",
       "      <td>15.716667</td>\n",
       "      <td>3</td>\n",
       "    </tr>\n",
       "    <tr>\n",
       "      <th>2016-03-25</th>\n",
       "      <td>4</td>\n",
       "      <td>9</td>\n",
       "      <td>44.750000</td>\n",
       "      <td>86.750000</td>\n",
       "      <td>29.810000</td>\n",
       "      <td>6.000000</td>\n",
       "      <td>10.075000</td>\n",
       "      <td>4</td>\n",
       "    </tr>\n",
       "    <tr>\n",
       "      <th>2016-03-28</th>\n",
       "      <td>7</td>\n",
       "      <td>15</td>\n",
       "      <td>41.114286</td>\n",
       "      <td>88.000000</td>\n",
       "      <td>29.791429</td>\n",
       "      <td>6.285714</td>\n",
       "      <td>8.400000</td>\n",
       "      <td>7</td>\n",
       "    </tr>\n",
       "    <tr>\n",
       "      <th>2016-03-29</th>\n",
       "      <td>8</td>\n",
       "      <td>16</td>\n",
       "      <td>42.212500</td>\n",
       "      <td>59.125000</td>\n",
       "      <td>29.666250</td>\n",
       "      <td>9.250000</td>\n",
       "      <td>19.012500</td>\n",
       "      <td>8</td>\n",
       "    </tr>\n",
       "    <tr>\n",
       "      <th>2016-03-30</th>\n",
       "      <td>4</td>\n",
       "      <td>8</td>\n",
       "      <td>39.700000</td>\n",
       "      <td>41.750000</td>\n",
       "      <td>30.292500</td>\n",
       "      <td>10.000000</td>\n",
       "      <td>9.800000</td>\n",
       "      <td>4</td>\n",
       "    </tr>\n",
       "    <tr>\n",
       "      <th>2016-03-31</th>\n",
       "      <td>4</td>\n",
       "      <td>8</td>\n",
       "      <td>60.000000</td>\n",
       "      <td>49.750000</td>\n",
       "      <td>29.937500</td>\n",
       "      <td>10.000000</td>\n",
       "      <td>23.325000</td>\n",
       "      <td>3</td>\n",
       "    </tr>\n",
       "    <tr>\n",
       "      <th>2016-04-01</th>\n",
       "      <td>1</td>\n",
       "      <td>2</td>\n",
       "      <td>70.000000</td>\n",
       "      <td>41.000000</td>\n",
       "      <td>29.630000</td>\n",
       "      <td>10.000000</td>\n",
       "      <td>20.700000</td>\n",
       "      <td>1</td>\n",
       "    </tr>\n",
       "    <tr>\n",
       "      <th>2016-04-02</th>\n",
       "      <td>1</td>\n",
       "      <td>2</td>\n",
       "      <td>48.000000</td>\n",
       "      <td>41.000000</td>\n",
       "      <td>29.600000</td>\n",
       "      <td>10.000000</td>\n",
       "      <td>6.900000</td>\n",
       "      <td>0</td>\n",
       "    </tr>\n",
       "    <tr>\n",
       "      <th>2016-04-04</th>\n",
       "      <td>9</td>\n",
       "      <td>19</td>\n",
       "      <td>24.488889</td>\n",
       "      <td>81.222222</td>\n",
       "      <td>30.011111</td>\n",
       "      <td>2.288889</td>\n",
       "      <td>7.066667</td>\n",
       "      <td>7</td>\n",
       "    </tr>\n",
       "  </tbody>\n",
       "</table>\n",
       "</div>"
      ],
      "text/plain": [
       "            Num  Severity       Temp   Humidity   Pressure  Visibility  \\\n",
       "YMD                                                                      \n",
       "2016-03-23    2         4  44.100000  68.000000  29.880000   10.000000   \n",
       "2016-03-24    6        12  37.033333  51.833333  30.246667   10.000000   \n",
       "2016-03-25    4         9  44.750000  86.750000  29.810000    6.000000   \n",
       "2016-03-28    7        15  41.114286  88.000000  29.791429    6.285714   \n",
       "2016-03-29    8        16  42.212500  59.125000  29.666250    9.250000   \n",
       "2016-03-30    4         8  39.700000  41.750000  30.292500   10.000000   \n",
       "2016-03-31    4         8  60.000000  49.750000  29.937500   10.000000   \n",
       "2016-04-01    1         2  70.000000  41.000000  29.630000   10.000000   \n",
       "2016-04-02    1         2  48.000000  41.000000  29.600000   10.000000   \n",
       "2016-04-04    9        19  24.488889  81.222222  30.011111    2.288889   \n",
       "\n",
       "            Wind_Speed  Sun  \n",
       "YMD                          \n",
       "2016-03-23   15.000000    0  \n",
       "2016-03-24   15.716667    3  \n",
       "2016-03-25   10.075000    4  \n",
       "2016-03-28    8.400000    7  \n",
       "2016-03-29   19.012500    8  \n",
       "2016-03-30    9.800000    4  \n",
       "2016-03-31   23.325000    3  \n",
       "2016-04-01   20.700000    1  \n",
       "2016-04-02    6.900000    0  \n",
       "2016-04-04    7.066667    7  "
      ]
     },
     "execution_count": 39,
     "metadata": {},
     "output_type": "execute_result"
    }
   ],
   "source": [
    "daily_data.head(10)"
   ]
  },
  {
   "cell_type": "code",
   "execution_count": 40,
   "metadata": {},
   "outputs": [],
   "source": [
    "def stand_trans(x):\n",
    "    x = x-min(x)\n",
    "    x /= max(x)\n",
    "    return x"
   ]
  },
  {
   "cell_type": "code",
   "execution_count": 41,
   "metadata": {},
   "outputs": [],
   "source": [
    "# the proportion of the number of accidents happened at daytime.\n",
    "\n",
    "# daily_data[\"Num\"] = daily_data[\"Num\"] / max(daily_data[\"Num\"])\n",
    "daily_data[\"Visibility\"] /= 10\n",
    "\n",
    "daily_data[\"Wind_Speed\"] = stand_trans(daily_data[\"Wind_Speed\"])\n",
    "daily_data[\"Pressure\"] = stand_trans(daily_data[\"Pressure\"])\n",
    "daily_data[\"Temp\"] = stand_trans(daily_data[\"Temp\"])\n",
    "daily_data[\"Humidity\"] /= 100\n",
    "\n",
    "daily_data[\"Sun\"] = daily_data[\"Sun\"] / daily_data[\"Num\"]\n"
   ]
  },
  {
   "cell_type": "code",
   "execution_count": 42,
   "metadata": {},
   "outputs": [
    {
     "data": {
      "text/html": [
       "<div>\n",
       "<style scoped>\n",
       "    .dataframe tbody tr th:only-of-type {\n",
       "        vertical-align: middle;\n",
       "    }\n",
       "\n",
       "    .dataframe tbody tr th {\n",
       "        vertical-align: top;\n",
       "    }\n",
       "\n",
       "    .dataframe thead th {\n",
       "        text-align: right;\n",
       "    }\n",
       "</style>\n",
       "<table border=\"1\" class=\"dataframe\">\n",
       "  <thead>\n",
       "    <tr style=\"text-align: right;\">\n",
       "      <th></th>\n",
       "      <th>Num</th>\n",
       "      <th>Severity</th>\n",
       "      <th>Temp</th>\n",
       "      <th>Humidity</th>\n",
       "      <th>Pressure</th>\n",
       "      <th>Visibility</th>\n",
       "      <th>Wind_Speed</th>\n",
       "      <th>Sun</th>\n",
       "    </tr>\n",
       "    <tr>\n",
       "      <th>YMD</th>\n",
       "      <th></th>\n",
       "      <th></th>\n",
       "      <th></th>\n",
       "      <th></th>\n",
       "      <th></th>\n",
       "      <th></th>\n",
       "      <th></th>\n",
       "      <th></th>\n",
       "    </tr>\n",
       "  </thead>\n",
       "  <tbody>\n",
       "    <tr>\n",
       "      <th>2016-03-23</th>\n",
       "      <td>2</td>\n",
       "      <td>4</td>\n",
       "      <td>0.478889</td>\n",
       "      <td>0.680000</td>\n",
       "      <td>0.644682</td>\n",
       "      <td>1.000000</td>\n",
       "      <td>0.514854</td>\n",
       "      <td>0.000000</td>\n",
       "    </tr>\n",
       "    <tr>\n",
       "      <th>2016-03-24</th>\n",
       "      <td>6</td>\n",
       "      <td>12</td>\n",
       "      <td>0.400370</td>\n",
       "      <td>0.518333</td>\n",
       "      <td>0.789702</td>\n",
       "      <td>1.000000</td>\n",
       "      <td>0.539452</td>\n",
       "      <td>0.500000</td>\n",
       "    </tr>\n",
       "    <tr>\n",
       "      <th>2016-03-25</th>\n",
       "      <td>4</td>\n",
       "      <td>9</td>\n",
       "      <td>0.486111</td>\n",
       "      <td>0.867500</td>\n",
       "      <td>0.616996</td>\n",
       "      <td>0.600000</td>\n",
       "      <td>0.345810</td>\n",
       "      <td>1.000000</td>\n",
       "    </tr>\n",
       "    <tr>\n",
       "      <th>2016-03-28</th>\n",
       "      <td>7</td>\n",
       "      <td>15</td>\n",
       "      <td>0.445714</td>\n",
       "      <td>0.880000</td>\n",
       "      <td>0.609651</td>\n",
       "      <td>0.628571</td>\n",
       "      <td>0.288318</td>\n",
       "      <td>1.000000</td>\n",
       "    </tr>\n",
       "    <tr>\n",
       "      <th>2016-03-29</th>\n",
       "      <td>8</td>\n",
       "      <td>16</td>\n",
       "      <td>0.457917</td>\n",
       "      <td>0.591250</td>\n",
       "      <td>0.560142</td>\n",
       "      <td>0.925000</td>\n",
       "      <td>0.652577</td>\n",
       "      <td>1.000000</td>\n",
       "    </tr>\n",
       "    <tr>\n",
       "      <th>2016-03-30</th>\n",
       "      <td>4</td>\n",
       "      <td>8</td>\n",
       "      <td>0.430000</td>\n",
       "      <td>0.417500</td>\n",
       "      <td>0.807830</td>\n",
       "      <td>1.000000</td>\n",
       "      <td>0.336371</td>\n",
       "      <td>1.000000</td>\n",
       "    </tr>\n",
       "    <tr>\n",
       "      <th>2016-03-31</th>\n",
       "      <td>4</td>\n",
       "      <td>8</td>\n",
       "      <td>0.655556</td>\n",
       "      <td>0.497500</td>\n",
       "      <td>0.667424</td>\n",
       "      <td>1.000000</td>\n",
       "      <td>0.800598</td>\n",
       "      <td>0.750000</td>\n",
       "    </tr>\n",
       "    <tr>\n",
       "      <th>2016-04-01</th>\n",
       "      <td>1</td>\n",
       "      <td>2</td>\n",
       "      <td>0.766667</td>\n",
       "      <td>0.410000</td>\n",
       "      <td>0.545804</td>\n",
       "      <td>1.000000</td>\n",
       "      <td>0.710498</td>\n",
       "      <td>1.000000</td>\n",
       "    </tr>\n",
       "    <tr>\n",
       "      <th>2016-04-02</th>\n",
       "      <td>1</td>\n",
       "      <td>2</td>\n",
       "      <td>0.522222</td>\n",
       "      <td>0.410000</td>\n",
       "      <td>0.533939</td>\n",
       "      <td>1.000000</td>\n",
       "      <td>0.236833</td>\n",
       "      <td>0.000000</td>\n",
       "    </tr>\n",
       "    <tr>\n",
       "      <th>2016-04-04</th>\n",
       "      <td>9</td>\n",
       "      <td>19</td>\n",
       "      <td>0.260988</td>\n",
       "      <td>0.812222</td>\n",
       "      <td>0.696538</td>\n",
       "      <td>0.228889</td>\n",
       "      <td>0.242553</td>\n",
       "      <td>0.777778</td>\n",
       "    </tr>\n",
       "  </tbody>\n",
       "</table>\n",
       "</div>"
      ],
      "text/plain": [
       "            Num  Severity      Temp  Humidity  Pressure  Visibility  \\\n",
       "YMD                                                                   \n",
       "2016-03-23    2         4  0.478889  0.680000  0.644682    1.000000   \n",
       "2016-03-24    6        12  0.400370  0.518333  0.789702    1.000000   \n",
       "2016-03-25    4         9  0.486111  0.867500  0.616996    0.600000   \n",
       "2016-03-28    7        15  0.445714  0.880000  0.609651    0.628571   \n",
       "2016-03-29    8        16  0.457917  0.591250  0.560142    0.925000   \n",
       "2016-03-30    4         8  0.430000  0.417500  0.807830    1.000000   \n",
       "2016-03-31    4         8  0.655556  0.497500  0.667424    1.000000   \n",
       "2016-04-01    1         2  0.766667  0.410000  0.545804    1.000000   \n",
       "2016-04-02    1         2  0.522222  0.410000  0.533939    1.000000   \n",
       "2016-04-04    9        19  0.260988  0.812222  0.696538    0.228889   \n",
       "\n",
       "            Wind_Speed       Sun  \n",
       "YMD                               \n",
       "2016-03-23    0.514854  0.000000  \n",
       "2016-03-24    0.539452  0.500000  \n",
       "2016-03-25    0.345810  1.000000  \n",
       "2016-03-28    0.288318  1.000000  \n",
       "2016-03-29    0.652577  1.000000  \n",
       "2016-03-30    0.336371  1.000000  \n",
       "2016-03-31    0.800598  0.750000  \n",
       "2016-04-01    0.710498  1.000000  \n",
       "2016-04-02    0.236833  0.000000  \n",
       "2016-04-04    0.242553  0.777778  "
      ]
     },
     "execution_count": 42,
     "metadata": {},
     "output_type": "execute_result"
    }
   ],
   "source": [
    "daily_data.head(10)"
   ]
  },
  {
   "cell_type": "code",
   "execution_count": 43,
   "metadata": {},
   "outputs": [
    {
     "data": {
      "text/html": [
       "<div>\n",
       "<style scoped>\n",
       "    .dataframe tbody tr th:only-of-type {\n",
       "        vertical-align: middle;\n",
       "    }\n",
       "\n",
       "    .dataframe tbody tr th {\n",
       "        vertical-align: top;\n",
       "    }\n",
       "\n",
       "    .dataframe thead th {\n",
       "        text-align: right;\n",
       "    }\n",
       "</style>\n",
       "<table border=\"1\" class=\"dataframe\">\n",
       "  <thead>\n",
       "    <tr style=\"text-align: right;\">\n",
       "      <th></th>\n",
       "      <th>Num</th>\n",
       "      <th>Severity</th>\n",
       "      <th>Temp</th>\n",
       "      <th>Humidity</th>\n",
       "      <th>Pressure</th>\n",
       "      <th>Visibility</th>\n",
       "      <th>Wind_Speed</th>\n",
       "      <th>Sun</th>\n",
       "    </tr>\n",
       "  </thead>\n",
       "  <tbody>\n",
       "    <tr>\n",
       "      <th>Num</th>\n",
       "      <td>1.000000</td>\n",
       "      <td>0.995481</td>\n",
       "      <td>-0.120570</td>\n",
       "      <td>0.180181</td>\n",
       "      <td>-0.050016</td>\n",
       "      <td>-0.175559</td>\n",
       "      <td>-0.043916</td>\n",
       "      <td>-0.098964</td>\n",
       "    </tr>\n",
       "    <tr>\n",
       "      <th>Severity</th>\n",
       "      <td>0.995481</td>\n",
       "      <td>1.000000</td>\n",
       "      <td>-0.109089</td>\n",
       "      <td>0.177315</td>\n",
       "      <td>-0.051368</td>\n",
       "      <td>-0.175607</td>\n",
       "      <td>-0.037413</td>\n",
       "      <td>-0.084594</td>\n",
       "    </tr>\n",
       "    <tr>\n",
       "      <th>Temp</th>\n",
       "      <td>-0.120570</td>\n",
       "      <td>-0.109089</td>\n",
       "      <td>1.000000</td>\n",
       "      <td>0.051345</td>\n",
       "      <td>-0.171937</td>\n",
       "      <td>0.144500</td>\n",
       "      <td>-0.146946</td>\n",
       "      <td>0.451497</td>\n",
       "    </tr>\n",
       "    <tr>\n",
       "      <th>Humidity</th>\n",
       "      <td>0.180181</td>\n",
       "      <td>0.177315</td>\n",
       "      <td>0.051345</td>\n",
       "      <td>1.000000</td>\n",
       "      <td>-0.212569</td>\n",
       "      <td>-0.627188</td>\n",
       "      <td>-0.202350</td>\n",
       "      <td>-0.116362</td>\n",
       "    </tr>\n",
       "    <tr>\n",
       "      <th>Pressure</th>\n",
       "      <td>-0.050016</td>\n",
       "      <td>-0.051368</td>\n",
       "      <td>-0.171937</td>\n",
       "      <td>-0.212569</td>\n",
       "      <td>1.000000</td>\n",
       "      <td>0.213271</td>\n",
       "      <td>-0.227533</td>\n",
       "      <td>-0.050620</td>\n",
       "    </tr>\n",
       "    <tr>\n",
       "      <th>Visibility</th>\n",
       "      <td>-0.175559</td>\n",
       "      <td>-0.175607</td>\n",
       "      <td>0.144500</td>\n",
       "      <td>-0.627188</td>\n",
       "      <td>0.213271</td>\n",
       "      <td>1.000000</td>\n",
       "      <td>-0.004740</td>\n",
       "      <td>0.088277</td>\n",
       "    </tr>\n",
       "    <tr>\n",
       "      <th>Wind_Speed</th>\n",
       "      <td>-0.043916</td>\n",
       "      <td>-0.037413</td>\n",
       "      <td>-0.146946</td>\n",
       "      <td>-0.202350</td>\n",
       "      <td>-0.227533</td>\n",
       "      <td>-0.004740</td>\n",
       "      <td>1.000000</td>\n",
       "      <td>0.060213</td>\n",
       "    </tr>\n",
       "    <tr>\n",
       "      <th>Sun</th>\n",
       "      <td>-0.098964</td>\n",
       "      <td>-0.084594</td>\n",
       "      <td>0.451497</td>\n",
       "      <td>-0.116362</td>\n",
       "      <td>-0.050620</td>\n",
       "      <td>0.088277</td>\n",
       "      <td>0.060213</td>\n",
       "      <td>1.000000</td>\n",
       "    </tr>\n",
       "  </tbody>\n",
       "</table>\n",
       "</div>"
      ],
      "text/plain": [
       "                 Num  Severity      Temp  Humidity  Pressure  Visibility  \\\n",
       "Num         1.000000  0.995481 -0.120570  0.180181 -0.050016   -0.175559   \n",
       "Severity    0.995481  1.000000 -0.109089  0.177315 -0.051368   -0.175607   \n",
       "Temp       -0.120570 -0.109089  1.000000  0.051345 -0.171937    0.144500   \n",
       "Humidity    0.180181  0.177315  0.051345  1.000000 -0.212569   -0.627188   \n",
       "Pressure   -0.050016 -0.051368 -0.171937 -0.212569  1.000000    0.213271   \n",
       "Visibility -0.175559 -0.175607  0.144500 -0.627188  0.213271    1.000000   \n",
       "Wind_Speed -0.043916 -0.037413 -0.146946 -0.202350 -0.227533   -0.004740   \n",
       "Sun        -0.098964 -0.084594  0.451497 -0.116362 -0.050620    0.088277   \n",
       "\n",
       "            Wind_Speed       Sun  \n",
       "Num          -0.043916 -0.098964  \n",
       "Severity     -0.037413 -0.084594  \n",
       "Temp         -0.146946  0.451497  \n",
       "Humidity     -0.202350 -0.116362  \n",
       "Pressure     -0.227533 -0.050620  \n",
       "Visibility   -0.004740  0.088277  \n",
       "Wind_Speed    1.000000  0.060213  \n",
       "Sun           0.060213  1.000000  "
      ]
     },
     "execution_count": 43,
     "metadata": {},
     "output_type": "execute_result"
    }
   ],
   "source": [
    "daily_data.corr()"
   ]
  },
  {
   "cell_type": "code",
   "execution_count": 24,
   "metadata": {},
   "outputs": [
    {
     "data": {
      "text/html": [
       "<div>\n",
       "<style scoped>\n",
       "    .dataframe tbody tr th:only-of-type {\n",
       "        vertical-align: middle;\n",
       "    }\n",
       "\n",
       "    .dataframe tbody tr th {\n",
       "        vertical-align: top;\n",
       "    }\n",
       "\n",
       "    .dataframe thead th {\n",
       "        text-align: right;\n",
       "    }\n",
       "</style>\n",
       "<table border=\"1\" class=\"dataframe\">\n",
       "  <thead>\n",
       "    <tr style=\"text-align: right;\">\n",
       "      <th></th>\n",
       "      <th>Num</th>\n",
       "      <th>Severity</th>\n",
       "      <th>Temp</th>\n",
       "      <th>Humidity</th>\n",
       "      <th>Pressure</th>\n",
       "      <th>Visibility</th>\n",
       "      <th>Wind_Speed</th>\n",
       "      <th>Sun</th>\n",
       "    </tr>\n",
       "    <tr>\n",
       "      <th>YMD</th>\n",
       "      <th></th>\n",
       "      <th></th>\n",
       "      <th></th>\n",
       "      <th></th>\n",
       "      <th></th>\n",
       "      <th></th>\n",
       "      <th></th>\n",
       "      <th></th>\n",
       "    </tr>\n",
       "  </thead>\n",
       "  <tbody>\n",
       "    <tr>\n",
       "      <th>2016-03-23</th>\n",
       "      <td>-1.304674</td>\n",
       "      <td>-1.314195</td>\n",
       "      <td>-0.484305</td>\n",
       "      <td>0.164678</td>\n",
       "      <td>-0.338417</td>\n",
       "      <td>0.536402</td>\n",
       "      <td>1.384506</td>\n",
       "      <td>-1.374094</td>\n",
       "    </tr>\n",
       "    <tr>\n",
       "      <th>2016-03-24</th>\n",
       "      <td>-1.091878</td>\n",
       "      <td>-1.137963</td>\n",
       "      <td>-0.872065</td>\n",
       "      <td>-0.792158</td>\n",
       "      <td>1.007235</td>\n",
       "      <td>0.536402</td>\n",
       "      <td>1.566713</td>\n",
       "      <td>-1.173995</td>\n",
       "    </tr>\n",
       "    <tr>\n",
       "      <th>2016-03-25</th>\n",
       "      <td>-1.198276</td>\n",
       "      <td>-1.204050</td>\n",
       "      <td>-0.448639</td>\n",
       "      <td>1.274411</td>\n",
       "      <td>-0.595315</td>\n",
       "      <td>-1.487223</td>\n",
       "      <td>0.132367</td>\n",
       "      <td>-1.107295</td>\n",
       "    </tr>\n",
       "    <tr>\n",
       "      <th>2016-03-28</th>\n",
       "      <td>-1.038679</td>\n",
       "      <td>-1.071876</td>\n",
       "      <td>-0.648136</td>\n",
       "      <td>1.348393</td>\n",
       "      <td>-0.663471</td>\n",
       "      <td>-1.342679</td>\n",
       "      <td>-0.293487</td>\n",
       "      <td>-0.907196</td>\n",
       "    </tr>\n",
       "    <tr>\n",
       "      <th>2016-03-29</th>\n",
       "      <td>-0.985480</td>\n",
       "      <td>-1.049847</td>\n",
       "      <td>-0.587875</td>\n",
       "      <td>-0.360596</td>\n",
       "      <td>-1.122872</td>\n",
       "      <td>0.156972</td>\n",
       "      <td>2.404650</td>\n",
       "      <td>-0.840497</td>\n",
       "    </tr>\n",
       "    <tr>\n",
       "      <th>2016-03-30</th>\n",
       "      <td>-1.198276</td>\n",
       "      <td>-1.226079</td>\n",
       "      <td>-0.725740</td>\n",
       "      <td>-1.388948</td>\n",
       "      <td>1.175442</td>\n",
       "      <td>0.536402</td>\n",
       "      <td>0.062451</td>\n",
       "      <td>-1.107295</td>\n",
       "    </tr>\n",
       "    <tr>\n",
       "      <th>2016-03-31</th>\n",
       "      <td>-1.198276</td>\n",
       "      <td>-1.226079</td>\n",
       "      <td>0.388155</td>\n",
       "      <td>-0.915462</td>\n",
       "      <td>-0.127394</td>\n",
       "      <td>0.536402</td>\n",
       "      <td>3.501067</td>\n",
       "      <td>-1.173995</td>\n",
       "    </tr>\n",
       "    <tr>\n",
       "      <th>2016-04-01</th>\n",
       "      <td>-1.357873</td>\n",
       "      <td>-1.358252</td>\n",
       "      <td>0.936871</td>\n",
       "      <td>-1.433337</td>\n",
       "      <td>-1.255908</td>\n",
       "      <td>0.536402</td>\n",
       "      <td>2.833683</td>\n",
       "      <td>-1.307394</td>\n",
       "    </tr>\n",
       "    <tr>\n",
       "      <th>2016-04-02</th>\n",
       "      <td>-1.357873</td>\n",
       "      <td>-1.358252</td>\n",
       "      <td>-0.270306</td>\n",
       "      <td>-1.433337</td>\n",
       "      <td>-1.366007</td>\n",
       "      <td>0.536402</td>\n",
       "      <td>-0.674849</td>\n",
       "      <td>-1.374094</td>\n",
       "    </tr>\n",
       "    <tr>\n",
       "      <th>2016-04-04</th>\n",
       "      <td>-0.932281</td>\n",
       "      <td>-0.983760</td>\n",
       "      <td>-1.560400</td>\n",
       "      <td>0.947245</td>\n",
       "      <td>0.142755</td>\n",
       "      <td>-3.364698</td>\n",
       "      <td>-0.632476</td>\n",
       "      <td>-0.907196</td>\n",
       "    </tr>\n",
       "  </tbody>\n",
       "</table>\n",
       "</div>"
      ],
      "text/plain": [
       "                 Num  Severity      Temp  Humidity  Pressure  Visibility  \\\n",
       "YMD                                                                        \n",
       "2016-03-23 -1.304674 -1.314195 -0.484305  0.164678 -0.338417    0.536402   \n",
       "2016-03-24 -1.091878 -1.137963 -0.872065 -0.792158  1.007235    0.536402   \n",
       "2016-03-25 -1.198276 -1.204050 -0.448639  1.274411 -0.595315   -1.487223   \n",
       "2016-03-28 -1.038679 -1.071876 -0.648136  1.348393 -0.663471   -1.342679   \n",
       "2016-03-29 -0.985480 -1.049847 -0.587875 -0.360596 -1.122872    0.156972   \n",
       "2016-03-30 -1.198276 -1.226079 -0.725740 -1.388948  1.175442    0.536402   \n",
       "2016-03-31 -1.198276 -1.226079  0.388155 -0.915462 -0.127394    0.536402   \n",
       "2016-04-01 -1.357873 -1.358252  0.936871 -1.433337 -1.255908    0.536402   \n",
       "2016-04-02 -1.357873 -1.358252 -0.270306 -1.433337 -1.366007    0.536402   \n",
       "2016-04-04 -0.932281 -0.983760 -1.560400  0.947245  0.142755   -3.364698   \n",
       "\n",
       "            Wind_Speed       Sun  \n",
       "YMD                               \n",
       "2016-03-23    1.384506 -1.374094  \n",
       "2016-03-24    1.566713 -1.173995  \n",
       "2016-03-25    0.132367 -1.107295  \n",
       "2016-03-28   -0.293487 -0.907196  \n",
       "2016-03-29    2.404650 -0.840497  \n",
       "2016-03-30    0.062451 -1.107295  \n",
       "2016-03-31    3.501067 -1.173995  \n",
       "2016-04-01    2.833683 -1.307394  \n",
       "2016-04-02   -0.674849 -1.374094  \n",
       "2016-04-04   -0.632476 -0.907196  "
      ]
     },
     "execution_count": 24,
     "metadata": {},
     "output_type": "execute_result"
    }
   ],
   "source": [
    "daily_data.head(10)"
   ]
  },
  {
   "cell_type": "code",
   "execution_count": 23,
   "metadata": {},
   "outputs": [
    {
     "data": {
      "text/html": [
       "<div>\n",
       "<style scoped>\n",
       "    .dataframe tbody tr th:only-of-type {\n",
       "        vertical-align: middle;\n",
       "    }\n",
       "\n",
       "    .dataframe tbody tr th {\n",
       "        vertical-align: top;\n",
       "    }\n",
       "\n",
       "    .dataframe thead th {\n",
       "        text-align: right;\n",
       "    }\n",
       "</style>\n",
       "<table border=\"1\" class=\"dataframe\">\n",
       "  <thead>\n",
       "    <tr style=\"text-align: right;\">\n",
       "      <th></th>\n",
       "      <th>Num</th>\n",
       "      <th>Severity</th>\n",
       "      <th>Temp</th>\n",
       "      <th>Humidity</th>\n",
       "      <th>Pressure</th>\n",
       "      <th>Visibility</th>\n",
       "      <th>Wind_Speed</th>\n",
       "      <th>Sun</th>\n",
       "    </tr>\n",
       "  </thead>\n",
       "  <tbody>\n",
       "    <tr>\n",
       "      <th>Num</th>\n",
       "      <td>1.000000</td>\n",
       "      <td>0.995481</td>\n",
       "      <td>-0.120570</td>\n",
       "      <td>0.180181</td>\n",
       "      <td>-0.050016</td>\n",
       "      <td>-0.175559</td>\n",
       "      <td>-0.043916</td>\n",
       "      <td>0.923649</td>\n",
       "    </tr>\n",
       "    <tr>\n",
       "      <th>Severity</th>\n",
       "      <td>0.995481</td>\n",
       "      <td>1.000000</td>\n",
       "      <td>-0.109089</td>\n",
       "      <td>0.177315</td>\n",
       "      <td>-0.051368</td>\n",
       "      <td>-0.175607</td>\n",
       "      <td>-0.037413</td>\n",
       "      <td>0.928417</td>\n",
       "    </tr>\n",
       "    <tr>\n",
       "      <th>Temp</th>\n",
       "      <td>-0.120570</td>\n",
       "      <td>-0.109089</td>\n",
       "      <td>1.000000</td>\n",
       "      <td>0.051345</td>\n",
       "      <td>-0.171937</td>\n",
       "      <td>0.144500</td>\n",
       "      <td>-0.146946</td>\n",
       "      <td>0.079863</td>\n",
       "    </tr>\n",
       "    <tr>\n",
       "      <th>Humidity</th>\n",
       "      <td>0.180181</td>\n",
       "      <td>0.177315</td>\n",
       "      <td>0.051345</td>\n",
       "      <td>1.000000</td>\n",
       "      <td>-0.212569</td>\n",
       "      <td>-0.627188</td>\n",
       "      <td>-0.202350</td>\n",
       "      <td>0.153688</td>\n",
       "    </tr>\n",
       "    <tr>\n",
       "      <th>Pressure</th>\n",
       "      <td>-0.050016</td>\n",
       "      <td>-0.051368</td>\n",
       "      <td>-0.171937</td>\n",
       "      <td>-0.212569</td>\n",
       "      <td>1.000000</td>\n",
       "      <td>0.213271</td>\n",
       "      <td>-0.227533</td>\n",
       "      <td>-0.072676</td>\n",
       "    </tr>\n",
       "    <tr>\n",
       "      <th>Visibility</th>\n",
       "      <td>-0.175559</td>\n",
       "      <td>-0.175607</td>\n",
       "      <td>0.144500</td>\n",
       "      <td>-0.627188</td>\n",
       "      <td>0.213271</td>\n",
       "      <td>1.000000</td>\n",
       "      <td>-0.004740</td>\n",
       "      <td>-0.140949</td>\n",
       "    </tr>\n",
       "    <tr>\n",
       "      <th>Wind_Speed</th>\n",
       "      <td>-0.043916</td>\n",
       "      <td>-0.037413</td>\n",
       "      <td>-0.146946</td>\n",
       "      <td>-0.202350</td>\n",
       "      <td>-0.227533</td>\n",
       "      <td>-0.004740</td>\n",
       "      <td>1.000000</td>\n",
       "      <td>-0.042283</td>\n",
       "    </tr>\n",
       "    <tr>\n",
       "      <th>Sun</th>\n",
       "      <td>0.923649</td>\n",
       "      <td>0.928417</td>\n",
       "      <td>0.079863</td>\n",
       "      <td>0.153688</td>\n",
       "      <td>-0.072676</td>\n",
       "      <td>-0.140949</td>\n",
       "      <td>-0.042283</td>\n",
       "      <td>1.000000</td>\n",
       "    </tr>\n",
       "  </tbody>\n",
       "</table>\n",
       "</div>"
      ],
      "text/plain": [
       "                 Num  Severity      Temp  Humidity  Pressure  Visibility  \\\n",
       "Num         1.000000  0.995481 -0.120570  0.180181 -0.050016   -0.175559   \n",
       "Severity    0.995481  1.000000 -0.109089  0.177315 -0.051368   -0.175607   \n",
       "Temp       -0.120570 -0.109089  1.000000  0.051345 -0.171937    0.144500   \n",
       "Humidity    0.180181  0.177315  0.051345  1.000000 -0.212569   -0.627188   \n",
       "Pressure   -0.050016 -0.051368 -0.171937 -0.212569  1.000000    0.213271   \n",
       "Visibility -0.175559 -0.175607  0.144500 -0.627188  0.213271    1.000000   \n",
       "Wind_Speed -0.043916 -0.037413 -0.146946 -0.202350 -0.227533   -0.004740   \n",
       "Sun         0.923649  0.928417  0.079863  0.153688 -0.072676   -0.140949   \n",
       "\n",
       "            Wind_Speed       Sun  \n",
       "Num          -0.043916  0.923649  \n",
       "Severity     -0.037413  0.928417  \n",
       "Temp         -0.146946  0.079863  \n",
       "Humidity     -0.202350  0.153688  \n",
       "Pressure     -0.227533 -0.072676  \n",
       "Visibility   -0.004740 -0.140949  \n",
       "Wind_Speed    1.000000 -0.042283  \n",
       "Sun          -0.042283  1.000000  "
      ]
     },
     "execution_count": 23,
     "metadata": {},
     "output_type": "execute_result"
    }
   ],
   "source": [
    "daily_data.corr()"
   ]
  },
  {
   "cell_type": "markdown",
   "metadata": {},
   "source": [
    "# Linear Model"
   ]
  },
  {
   "cell_type": "code",
   "execution_count": 153,
   "metadata": {},
   "outputs": [
    {
     "data": {
      "image/png": "[encoded data removed]",
      "text/plain": [
       "<Figure size 864x576 with 2 Axes>"
      ]
     },
     "metadata": {
      "needs_background": "light"
     },
     "output_type": "display_data"
    }
   ],
   "source": [
    "plt.figure(figsize = (12,8))\n",
    "sns.heatmap(daily_data.corr(),cbar=True, annot=True,square=True,\n",
    "                 fmt='.2f',annot_kws={'size': 15},\n",
    "                 yticklabels=cols,xticklabels=cols);"
   ]
  },
  {
   "cell_type": "markdown",
   "metadata": {},
   "source": [
    "## LDA"
   ]
  },
  {
   "cell_type": "code",
   "execution_count": 63,
   "metadata": {},
   "outputs": [],
   "source": [
    "from sklearn.discriminant_analysis import LinearDiscriminantAnalysis"
   ]
  },
  {
   "cell_type": "code",
   "execution_count": 70,
   "metadata": {},
   "outputs": [],
   "source": [
    "lda = LinearDiscriminantAnalysis(n_components=3)"
   ]
  },
  {
   "cell_type": "code",
   "execution_count": 71,
   "metadata": {},
   "outputs": [],
   "source": [
    "lda_model = lda.fit(X, y)"
   ]
  },
  {
   "cell_type": "code",
   "execution_count": 66,
   "metadata": {},
   "outputs": [],
   "source": [
    "X_r2 = lda_model.transform(X)"
   ]
  },
  {
   "cell_type": "code",
   "execution_count": 67,
   "metadata": {},
   "outputs": [
    {
     "data": {
      "text/plain": [
       "array([[-2.6580407 , -1.13856859, -2.64215883, -0.04405265],\n",
       "       [-2.88844082,  2.04466084, -1.3671125 ,  9.54770569],\n",
       "       [-2.90390452,  2.94115351, -0.62026073,  7.28598158],\n",
       "       [-2.80516451,  2.33066496, -0.24179691, -2.53075149],\n",
       "       [-2.57827799,  2.40574487, -0.20852909, -0.74613661]])"
      ]
     },
     "execution_count": 67,
     "metadata": {},
     "output_type": "execute_result"
    }
   ],
   "source": [
    "X_r2[0:5]"
   ]
  },
  {
   "cell_type": "code",
   "execution_count": null,
   "metadata": {},
   "outputs": [],
   "source": []
  },
  {
   "cell_type": "code",
   "execution_count": 77,
   "metadata": {},
   "outputs": [
    {
     "data": {
      "text/plain": [
       "array([[-3.91445785e-02,  1.67052305e-02, -2.15611296e-02,\n",
       "        -8.67124154e-01, -4.02145780e-02, -4.06464897e-03],\n",
       "       [-5.29491474e-02, -1.08425269e-04, -4.66206638e-04,\n",
       "        -1.38168260e-02, -6.14900443e-04, -5.40765046e-03],\n",
       "       [ 5.92629262e-02,  3.79833977e-04,  1.53011751e-03,\n",
       "         6.81050773e-02,  6.81267701e-04,  1.26942888e-02],\n",
       "       [ 6.34617940e-01, -6.06656929e-03,  2.92769668e-03,\n",
       "        -4.86767854e-02,  1.93905439e-02,  5.27906605e-03]])"
      ]
     },
     "execution_count": 77,
     "metadata": {},
     "output_type": "execute_result"
    }
   ],
   "source": [
    "lda_model.coef_"
   ]
  },
  {
   "cell_type": "code",
   "execution_count": 82,
   "metadata": {},
   "outputs": [
    {
     "name": "stdout",
     "output_type": "stream",
     "text": [
      "[ 1.67052305e-02 -1.08425269e-04  6.81050773e-02  6.34617940e-01]\n",
      "[1 1 3 0]\n"
     ]
    }
   ],
   "source": [
    "print(np.max(lda_model.coef_,axis=1))\n",
    "print(np.argmax(lda_model.coef_,axis=1))"
   ]
  },
  {
   "cell_type": "code",
   "execution_count": 83,
   "metadata": {},
   "outputs": [
    {
     "data": {
      "text/plain": [
       "array([[ 0.19580537, 70.76573417, 50.49202221, 29.01943277,  9.51869298,\n",
       "         8.40196809],\n",
       "       [ 0.15890234, 62.49378028, 63.9678727 , 29.69479415,  9.16609337,\n",
       "         8.07345425],\n",
       "       [ 0.41372039, 62.29963939, 64.78739625, 29.7564104 ,  9.13258594,\n",
       "         8.54969969],\n",
       "       [ 1.72939595, 59.6050853 , 66.01343467, 29.6547961 ,  9.16760026,\n",
       "         8.39314843]])"
      ]
     },
     "execution_count": 83,
     "metadata": {},
     "output_type": "execute_result"
    }
   ],
   "source": [
    "lda_model.means_"
   ]
  },
  {
   "cell_type": "markdown",
   "metadata": {},
   "source": [
    "## Linear Regression"
   ]
  },
  {
   "cell_type": "code",
   "execution_count": 18,
   "metadata": {},
   "outputs": [],
   "source": [
    "from sklearn.linear_model import LinearRegression"
   ]
  },
  {
   "cell_type": "code",
   "execution_count": 19,
   "metadata": {},
   "outputs": [],
   "source": [
    "X = daily_data[[\"Temp\"]]\n",
    "y = daily_data[\"Sun\"]"
   ]
  },
  {
   "cell_type": "code",
   "execution_count": 20,
   "metadata": {},
   "outputs": [
    {
     "ename": "KeyError",
     "evalue": "\"None of [Index(['Start_Lat', 'Start_Lng', 'Distance(mi)', 'Temperature(F)',\\n       'Humidity(%)', 'Pressure(in)', 'Visibility(mi)', 'Wind_Speed(mph)',\\n       'Precipitation(in)'],\\n      dtype='object')] are in the [columns]\"",
     "output_type": "error",
     "traceback": [
      "\u001b[1;31m---------------------------------------------------------------------------\u001b[0m",
      "\u001b[1;31mKeyError\u001b[0m                                  Traceback (most recent call last)",
      "\u001b[1;32m<ipython-input-20-dfc5817958fe>\u001b[0m in \u001b[0;36m<module>\u001b[1;34m\u001b[0m\n\u001b[0;32m      7\u001b[0m \u001b[1;33m\u001b[0m\u001b[0m\n\u001b[0;32m      8\u001b[0m \u001b[1;31m# 3. Use the fit method of the instance\u001b[0m\u001b[1;33m\u001b[0m\u001b[1;33m\u001b[0m\u001b[1;33m\u001b[0m\u001b[0m\n\u001b[1;32m----> 9\u001b[1;33m \u001b[0mscaler\u001b[0m\u001b[1;33m.\u001b[0m\u001b[0mfit\u001b[0m\u001b[1;33m(\u001b[0m\u001b[0mX\u001b[0m\u001b[1;33m[\u001b[0m\u001b[0mnumerical_features\u001b[0m\u001b[1;33m]\u001b[0m\u001b[1;33m)\u001b[0m\u001b[1;33m\u001b[0m\u001b[1;33m\u001b[0m\u001b[0m\n\u001b[0m\u001b[0;32m     10\u001b[0m \u001b[1;33m\u001b[0m\u001b[0m\n\u001b[0;32m     11\u001b[0m \u001b[0mX\u001b[0m\u001b[1;33m.\u001b[0m\u001b[0mloc\u001b[0m\u001b[1;33m[\u001b[0m\u001b[1;33m:\u001b[0m\u001b[1;33m,\u001b[0m\u001b[0mnumerical_features\u001b[0m\u001b[1;33m]\u001b[0m \u001b[1;33m=\u001b[0m \u001b[0mscaler\u001b[0m\u001b[1;33m.\u001b[0m\u001b[0mtransform\u001b[0m\u001b[1;33m(\u001b[0m\u001b[0mX\u001b[0m\u001b[1;33m[\u001b[0m\u001b[0mnumerical_features\u001b[0m\u001b[1;33m]\u001b[0m\u001b[1;33m)\u001b[0m\u001b[1;33m\u001b[0m\u001b[1;33m\u001b[0m\u001b[0m\n",
      "\u001b[1;32mD:\\anaconda3\\lib\\site-packages\\pandas\\core\\frame.py\u001b[0m in \u001b[0;36m__getitem__\u001b[1;34m(self, key)\u001b[0m\n\u001b[0;32m   2906\u001b[0m             \u001b[1;32mif\u001b[0m \u001b[0mis_iterator\u001b[0m\u001b[1;33m(\u001b[0m\u001b[0mkey\u001b[0m\u001b[1;33m)\u001b[0m\u001b[1;33m:\u001b[0m\u001b[1;33m\u001b[0m\u001b[1;33m\u001b[0m\u001b[0m\n\u001b[0;32m   2907\u001b[0m                 \u001b[0mkey\u001b[0m \u001b[1;33m=\u001b[0m \u001b[0mlist\u001b[0m\u001b[1;33m(\u001b[0m\u001b[0mkey\u001b[0m\u001b[1;33m)\u001b[0m\u001b[1;33m\u001b[0m\u001b[1;33m\u001b[0m\u001b[0m\n\u001b[1;32m-> 2908\u001b[1;33m             \u001b[0mindexer\u001b[0m \u001b[1;33m=\u001b[0m \u001b[0mself\u001b[0m\u001b[1;33m.\u001b[0m\u001b[0mloc\u001b[0m\u001b[1;33m.\u001b[0m\u001b[0m_get_listlike_indexer\u001b[0m\u001b[1;33m(\u001b[0m\u001b[0mkey\u001b[0m\u001b[1;33m,\u001b[0m \u001b[0maxis\u001b[0m\u001b[1;33m=\u001b[0m\u001b[1;36m1\u001b[0m\u001b[1;33m,\u001b[0m \u001b[0mraise_missing\u001b[0m\u001b[1;33m=\u001b[0m\u001b[1;32mTrue\u001b[0m\u001b[1;33m)\u001b[0m\u001b[1;33m[\u001b[0m\u001b[1;36m1\u001b[0m\u001b[1;33m]\u001b[0m\u001b[1;33m\u001b[0m\u001b[1;33m\u001b[0m\u001b[0m\n\u001b[0m\u001b[0;32m   2909\u001b[0m \u001b[1;33m\u001b[0m\u001b[0m\n\u001b[0;32m   2910\u001b[0m         \u001b[1;31m# take() does not accept boolean indexers\u001b[0m\u001b[1;33m\u001b[0m\u001b[1;33m\u001b[0m\u001b[1;33m\u001b[0m\u001b[0m\n",
      "\u001b[1;32mD:\\anaconda3\\lib\\site-packages\\pandas\\core\\indexing.py\u001b[0m in \u001b[0;36m_get_listlike_indexer\u001b[1;34m(self, key, axis, raise_missing)\u001b[0m\n\u001b[0;32m   1252\u001b[0m             \u001b[0mkeyarr\u001b[0m\u001b[1;33m,\u001b[0m \u001b[0mindexer\u001b[0m\u001b[1;33m,\u001b[0m \u001b[0mnew_indexer\u001b[0m \u001b[1;33m=\u001b[0m \u001b[0max\u001b[0m\u001b[1;33m.\u001b[0m\u001b[0m_reindex_non_unique\u001b[0m\u001b[1;33m(\u001b[0m\u001b[0mkeyarr\u001b[0m\u001b[1;33m)\u001b[0m\u001b[1;33m\u001b[0m\u001b[1;33m\u001b[0m\u001b[0m\n\u001b[0;32m   1253\u001b[0m \u001b[1;33m\u001b[0m\u001b[0m\n\u001b[1;32m-> 1254\u001b[1;33m         \u001b[0mself\u001b[0m\u001b[1;33m.\u001b[0m\u001b[0m_validate_read_indexer\u001b[0m\u001b[1;33m(\u001b[0m\u001b[0mkeyarr\u001b[0m\u001b[1;33m,\u001b[0m \u001b[0mindexer\u001b[0m\u001b[1;33m,\u001b[0m \u001b[0maxis\u001b[0m\u001b[1;33m,\u001b[0m \u001b[0mraise_missing\u001b[0m\u001b[1;33m=\u001b[0m\u001b[0mraise_missing\u001b[0m\u001b[1;33m)\u001b[0m\u001b[1;33m\u001b[0m\u001b[1;33m\u001b[0m\u001b[0m\n\u001b[0m\u001b[0;32m   1255\u001b[0m         \u001b[1;32mreturn\u001b[0m \u001b[0mkeyarr\u001b[0m\u001b[1;33m,\u001b[0m \u001b[0mindexer\u001b[0m\u001b[1;33m\u001b[0m\u001b[1;33m\u001b[0m\u001b[0m\n\u001b[0;32m   1256\u001b[0m \u001b[1;33m\u001b[0m\u001b[0m\n",
      "\u001b[1;32mD:\\anaconda3\\lib\\site-packages\\pandas\\core\\indexing.py\u001b[0m in \u001b[0;36m_validate_read_indexer\u001b[1;34m(self, key, indexer, axis, raise_missing)\u001b[0m\n\u001b[0;32m   1296\u001b[0m             \u001b[1;32mif\u001b[0m \u001b[0mmissing\u001b[0m \u001b[1;33m==\u001b[0m \u001b[0mlen\u001b[0m\u001b[1;33m(\u001b[0m\u001b[0mindexer\u001b[0m\u001b[1;33m)\u001b[0m\u001b[1;33m:\u001b[0m\u001b[1;33m\u001b[0m\u001b[1;33m\u001b[0m\u001b[0m\n\u001b[0;32m   1297\u001b[0m                 \u001b[0maxis_name\u001b[0m \u001b[1;33m=\u001b[0m \u001b[0mself\u001b[0m\u001b[1;33m.\u001b[0m\u001b[0mobj\u001b[0m\u001b[1;33m.\u001b[0m\u001b[0m_get_axis_name\u001b[0m\u001b[1;33m(\u001b[0m\u001b[0maxis\u001b[0m\u001b[1;33m)\u001b[0m\u001b[1;33m\u001b[0m\u001b[1;33m\u001b[0m\u001b[0m\n\u001b[1;32m-> 1298\u001b[1;33m                 \u001b[1;32mraise\u001b[0m \u001b[0mKeyError\u001b[0m\u001b[1;33m(\u001b[0m\u001b[1;34mf\"None of [{key}] are in the [{axis_name}]\"\u001b[0m\u001b[1;33m)\u001b[0m\u001b[1;33m\u001b[0m\u001b[1;33m\u001b[0m\u001b[0m\n\u001b[0m\u001b[0;32m   1299\u001b[0m \u001b[1;33m\u001b[0m\u001b[0m\n\u001b[0;32m   1300\u001b[0m             \u001b[1;31m# We (temporarily) allow for some missing keys with .loc, except in\u001b[0m\u001b[1;33m\u001b[0m\u001b[1;33m\u001b[0m\u001b[1;33m\u001b[0m\u001b[0m\n",
      "\u001b[1;31mKeyError\u001b[0m: \"None of [Index(['Start_Lat', 'Start_Lng', 'Distance(mi)', 'Temperature(F)',\\n       'Humidity(%)', 'Pressure(in)', 'Visibility(mi)', 'Wind_Speed(mph)',\\n       'Precipitation(in)'],\\n      dtype='object')] are in the [columns]\""
     ]
    }
   ],
   "source": []
  },
  {
   "cell_type": "code",
   "execution_count": 168,
   "metadata": {},
   "outputs": [],
   "source": [
    "X_train, X_test, y_train, y_test = train_test_split(X, y, test_size=0.1)"
   ]
  },
  {
   "cell_type": "code",
   "execution_count": 170,
   "metadata": {},
   "outputs": [],
   "source": [
    "lr = LinearRegression()\n",
    "\n",
    "lr.fit(X_train,y_train)\n",
    "y_pred = lr.predict(X_test)"
   ]
  },
  {
   "cell_type": "code",
   "execution_count": 171,
   "metadata": {},
   "outputs": [
    {
     "name": "stdout",
     "output_type": "stream",
     "text": [
      "0.04054073628983188\n",
      "0.2619002058161167\n"
     ]
    }
   ],
   "source": [
    "\n",
    "print(mean_squared_error(y_test, y_pred))\n",
    "print(r2_score(y_test, y_pred))"
   ]
  },
  {
   "cell_type": "code",
   "execution_count": 177,
   "metadata": {},
   "outputs": [
    {
     "data": {
      "text/plain": [
       "[<matplotlib.lines.Line2D at 0x1c895dd83d0>]"
      ]
     },
     "execution_count": 177,
     "metadata": {},
     "output_type": "execute_result"
    },
    {
     "data": {
      "image/png": "[encoded data removed]",
      "text/plain": [
       "<Figure size 432x288 with 1 Axes>"
      ]
     },
     "metadata": {
      "needs_background": "light"
     },
     "output_type": "display_data"
    }
   ],
   "source": [
    "plt.plot(X,y,\"ko\")"
   ]
  },
  {
   "cell_type": "markdown",
   "metadata": {},
   "source": [
    "## Logistic Regression"
   ]
  },
  {
   "cell_type": "code",
   "execution_count": 126,
   "metadata": {},
   "outputs": [],
   "source": [
    "from sklearn.linear_model import LogisticRegression\n",
    "from sklearn.metrics import accuracy_score"
   ]
  },
  {
   "cell_type": "code",
   "execution_count": 179,
   "metadata": {},
   "outputs": [],
   "source": [
    "df1 = MA_df.copy()\n",
    "df1.ffill(inplace = True)\n",
    "df1.bfill(inplace=True)"
   ]
  },
  {
   "cell_type": "code",
   "execution_count": 180,
   "metadata": {},
   "outputs": [],
   "source": [
    "# combine Severity into 2 groups\n",
    "df1.loc[df1[\"Severity\"] <= 2,\"Severity\"] = 0\n",
    "df1.loc[df1[\"Severity\"] >= 3,\"Severity\"] = 1"
   ]
  },
  {
   "cell_type": "code",
   "execution_count": 181,
   "metadata": {},
   "outputs": [
    {
     "data": {
      "text/plain": [
       "0    23635\n",
       "1    15409\n",
       "Name: Severity, dtype: int64"
      ]
     },
     "execution_count": 181,
     "metadata": {},
     "output_type": "execute_result"
    }
   ],
   "source": [
    "df1.Severity.value_counts()"
   ]
  },
  {
   "cell_type": "code",
   "execution_count": 182,
   "metadata": {},
   "outputs": [],
   "source": [
    "n = len(df1.Severity)\n",
    "df1_type1 = df1[df1.Severity == 1]\n",
    "n1 = len(df1_type1.Severity)"
   ]
  },
  {
   "cell_type": "code",
   "execution_count": 183,
   "metadata": {},
   "outputs": [],
   "source": [
    "j = df1_type1.iloc[np.random.randint(n1,size = n-2*n1)]"
   ]
  },
  {
   "cell_type": "code",
   "execution_count": 184,
   "metadata": {},
   "outputs": [],
   "source": [
    "df1 = df1.append(j)"
   ]
  },
  {
   "cell_type": "code",
   "execution_count": 185,
   "metadata": {},
   "outputs": [
    {
     "data": {
      "text/plain": [
       "1    23635\n",
       "0    23635\n",
       "Name: Severity, dtype: int64"
      ]
     },
     "execution_count": 185,
     "metadata": {},
     "output_type": "execute_result"
    }
   ],
   "source": [
    "df1.Severity.value_counts()"
   ]
  },
  {
   "cell_type": "code",
   "execution_count": null,
   "metadata": {},
   "outputs": [],
   "source": []
  },
  {
   "cell_type": "code",
   "execution_count": 186,
   "metadata": {},
   "outputs": [],
   "source": [
    "y = df1[\"Severity\"].copy()\n",
    "X = df1[numerical_features + binary_features].copy()"
   ]
  },
  {
   "cell_type": "code",
   "execution_count": 187,
   "metadata": {},
   "outputs": [],
   "source": [
    "# 1. Import the classes\n",
    "\n",
    "from sklearn.preprocessing import StandardScaler\n",
    "\n",
    "# 2. Create an instance of the class\n",
    "scaler = StandardScaler()\n",
    "\n",
    "# 3. Use the fit method of the instance\n",
    "scaler.fit(X[numerical_features])\n",
    "\n",
    "X.loc[:,numerical_features] = scaler.transform(X[numerical_features])"
   ]
  },
  {
   "cell_type": "code",
   "execution_count": 188,
   "metadata": {},
   "outputs": [
    {
     "data": {
      "text/html": [
       "<div>\n",
       "<style scoped>\n",
       "    .dataframe tbody tr th:only-of-type {\n",
       "        vertical-align: middle;\n",
       "    }\n",
       "\n",
       "    .dataframe tbody tr th {\n",
       "        vertical-align: top;\n",
       "    }\n",
       "\n",
       "    .dataframe thead th {\n",
       "        text-align: right;\n",
       "    }\n",
       "</style>\n",
       "<table border=\"1\" class=\"dataframe\">\n",
       "  <thead>\n",
       "    <tr style=\"text-align: right;\">\n",
       "      <th></th>\n",
       "      <th>Start_Lat</th>\n",
       "      <th>Start_Lng</th>\n",
       "      <th>Distance(mi)</th>\n",
       "      <th>Temperature(F)</th>\n",
       "      <th>Humidity(%)</th>\n",
       "      <th>Pressure(in)</th>\n",
       "      <th>Visibility(mi)</th>\n",
       "      <th>Wind_Speed(mph)</th>\n",
       "      <th>Precipitation(in)</th>\n",
       "      <th>Amenity</th>\n",
       "      <th>...</th>\n",
       "      <th>Junction</th>\n",
       "      <th>No_Exit</th>\n",
       "      <th>Railway</th>\n",
       "      <th>Roundabout</th>\n",
       "      <th>Station</th>\n",
       "      <th>Stop</th>\n",
       "      <th>Traffic_Calming</th>\n",
       "      <th>Traffic_Signal</th>\n",
       "      <th>Turning_Loop</th>\n",
       "      <th>Sunrise_Sunset</th>\n",
       "    </tr>\n",
       "    <tr>\n",
       "      <th>ID</th>\n",
       "      <th></th>\n",
       "      <th></th>\n",
       "      <th></th>\n",
       "      <th></th>\n",
       "      <th></th>\n",
       "      <th></th>\n",
       "      <th></th>\n",
       "      <th></th>\n",
       "      <th></th>\n",
       "      <th></th>\n",
       "      <th></th>\n",
       "      <th></th>\n",
       "      <th></th>\n",
       "      <th></th>\n",
       "      <th></th>\n",
       "      <th></th>\n",
       "      <th></th>\n",
       "      <th></th>\n",
       "      <th></th>\n",
       "      <th></th>\n",
       "      <th></th>\n",
       "    </tr>\n",
       "  </thead>\n",
       "  <tbody>\n",
       "    <tr>\n",
       "      <th>A-194264</th>\n",
       "      <td>-0.870878</td>\n",
       "      <td>-3.727067</td>\n",
       "      <td>-0.179429</td>\n",
       "      <td>-0.172354</td>\n",
       "      <td>1.579627</td>\n",
       "      <td>-0.291104</td>\n",
       "      <td>-1.998225</td>\n",
       "      <td>-1.121834</td>\n",
       "      <td>0.552408</td>\n",
       "      <td>False</td>\n",
       "      <td>...</td>\n",
       "      <td>False</td>\n",
       "      <td>False</td>\n",
       "      <td>False</td>\n",
       "      <td>False</td>\n",
       "      <td>False</td>\n",
       "      <td>False</td>\n",
       "      <td>False</td>\n",
       "      <td>False</td>\n",
       "      <td>False</td>\n",
       "      <td>1</td>\n",
       "    </tr>\n",
       "    <tr>\n",
       "      <th>A-194268</th>\n",
       "      <td>-0.187284</td>\n",
       "      <td>-0.252644</td>\n",
       "      <td>-0.179429</td>\n",
       "      <td>-0.182753</td>\n",
       "      <td>1.046581</td>\n",
       "      <td>-0.002660</td>\n",
       "      <td>-1.295374</td>\n",
       "      <td>-0.683704</td>\n",
       "      <td>0.552408</td>\n",
       "      <td>False</td>\n",
       "      <td>...</td>\n",
       "      <td>False</td>\n",
       "      <td>False</td>\n",
       "      <td>False</td>\n",
       "      <td>False</td>\n",
       "      <td>True</td>\n",
       "      <td>False</td>\n",
       "      <td>False</td>\n",
       "      <td>True</td>\n",
       "      <td>False</td>\n",
       "      <td>0</td>\n",
       "    </tr>\n",
       "    <tr>\n",
       "      <th>A-194269</th>\n",
       "      <td>0.342205</td>\n",
       "      <td>-0.070451</td>\n",
       "      <td>-0.172203</td>\n",
       "      <td>-0.239947</td>\n",
       "      <td>0.901205</td>\n",
       "      <td>0.157586</td>\n",
       "      <td>-1.295374</td>\n",
       "      <td>-0.474164</td>\n",
       "      <td>1.051614</td>\n",
       "      <td>False</td>\n",
       "      <td>...</td>\n",
       "      <td>False</td>\n",
       "      <td>False</td>\n",
       "      <td>False</td>\n",
       "      <td>False</td>\n",
       "      <td>False</td>\n",
       "      <td>False</td>\n",
       "      <td>False</td>\n",
       "      <td>False</td>\n",
       "      <td>False</td>\n",
       "      <td>1</td>\n",
       "    </tr>\n",
       "    <tr>\n",
       "      <th>A-194270</th>\n",
       "      <td>0.633056</td>\n",
       "      <td>0.148259</td>\n",
       "      <td>-0.172203</td>\n",
       "      <td>-0.286742</td>\n",
       "      <td>1.046581</td>\n",
       "      <td>0.157586</td>\n",
       "      <td>-1.998225</td>\n",
       "      <td>-0.245575</td>\n",
       "      <td>-0.113201</td>\n",
       "      <td>False</td>\n",
       "      <td>...</td>\n",
       "      <td>False</td>\n",
       "      <td>False</td>\n",
       "      <td>False</td>\n",
       "      <td>False</td>\n",
       "      <td>False</td>\n",
       "      <td>False</td>\n",
       "      <td>False</td>\n",
       "      <td>False</td>\n",
       "      <td>False</td>\n",
       "      <td>1</td>\n",
       "    </tr>\n",
       "    <tr>\n",
       "      <th>A-194271</th>\n",
       "      <td>0.761337</td>\n",
       "      <td>0.710102</td>\n",
       "      <td>-0.172203</td>\n",
       "      <td>-0.286742</td>\n",
       "      <td>1.579627</td>\n",
       "      <td>0.029389</td>\n",
       "      <td>-0.943948</td>\n",
       "      <td>-0.245575</td>\n",
       "      <td>0.885212</td>\n",
       "      <td>False</td>\n",
       "      <td>...</td>\n",
       "      <td>False</td>\n",
       "      <td>False</td>\n",
       "      <td>False</td>\n",
       "      <td>False</td>\n",
       "      <td>False</td>\n",
       "      <td>False</td>\n",
       "      <td>False</td>\n",
       "      <td>False</td>\n",
       "      <td>False</td>\n",
       "      <td>1</td>\n",
       "    </tr>\n",
       "  </tbody>\n",
       "</table>\n",
       "<p>5 rows × 23 columns</p>\n",
       "</div>"
      ],
      "text/plain": [
       "          Start_Lat  Start_Lng  Distance(mi)  Temperature(F)  Humidity(%)  \\\n",
       "ID                                                                          \n",
       "A-194264  -0.870878  -3.727067     -0.179429       -0.172354     1.579627   \n",
       "A-194268  -0.187284  -0.252644     -0.179429       -0.182753     1.046581   \n",
       "A-194269   0.342205  -0.070451     -0.172203       -0.239947     0.901205   \n",
       "A-194270   0.633056   0.148259     -0.172203       -0.286742     1.046581   \n",
       "A-194271   0.761337   0.710102     -0.172203       -0.286742     1.579627   \n",
       "\n",
       "          Pressure(in)  Visibility(mi)  Wind_Speed(mph)  Precipitation(in)  \\\n",
       "ID                                                                           \n",
       "A-194264     -0.291104       -1.998225        -1.121834           0.552408   \n",
       "A-194268     -0.002660       -1.295374        -0.683704           0.552408   \n",
       "A-194269      0.157586       -1.295374        -0.474164           1.051614   \n",
       "A-194270      0.157586       -1.998225        -0.245575          -0.113201   \n",
       "A-194271      0.029389       -0.943948        -0.245575           0.885212   \n",
       "\n",
       "          Amenity  ...  Junction  No_Exit  Railway  Roundabout  Station  \\\n",
       "ID                 ...                                                    \n",
       "A-194264    False  ...     False    False    False       False    False   \n",
       "A-194268    False  ...     False    False    False       False     True   \n",
       "A-194269    False  ...     False    False    False       False    False   \n",
       "A-194270    False  ...     False    False    False       False    False   \n",
       "A-194271    False  ...     False    False    False       False    False   \n",
       "\n",
       "           Stop  Traffic_Calming  Traffic_Signal  Turning_Loop  Sunrise_Sunset  \n",
       "ID                                                                              \n",
       "A-194264  False            False           False         False               1  \n",
       "A-194268  False            False            True         False               0  \n",
       "A-194269  False            False           False         False               1  \n",
       "A-194270  False            False           False         False               1  \n",
       "A-194271  False            False           False         False               1  \n",
       "\n",
       "[5 rows x 23 columns]"
      ]
     },
     "execution_count": 188,
     "metadata": {},
     "output_type": "execute_result"
    }
   ],
   "source": [
    "X.head()"
   ]
  },
  {
   "cell_type": "code",
   "execution_count": 137,
   "metadata": {},
   "outputs": [],
   "source": [
    "X_train, X_test, y_train, y_test = train_test_split(X, y, test_size=0.2, stratify=y)"
   ]
  },
  {
   "cell_type": "code",
   "execution_count": 138,
   "metadata": {},
   "outputs": [],
   "source": [
    "lor = LogisticRegression(random_state=0)"
   ]
  },
  {
   "cell_type": "code",
   "execution_count": 139,
   "metadata": {},
   "outputs": [
    {
     "name": "stderr",
     "output_type": "stream",
     "text": [
      "D:\\anaconda3\\lib\\site-packages\\sklearn\\linear_model\\_logistic.py:762: ConvergenceWarning: lbfgs failed to converge (status=1):\n",
      "STOP: TOTAL NO. of ITERATIONS REACHED LIMIT.\n",
      "\n",
      "Increase the number of iterations (max_iter) or scale the data as shown in:\n",
      "    https://scikit-learn.org/stable/modules/preprocessing.html\n",
      "Please also refer to the documentation for alternative solver options:\n",
      "    https://scikit-learn.org/stable/modules/linear_model.html#logistic-regression\n",
      "  n_iter_i = _check_optimize_result(\n"
     ]
    },
    {
     "data": {
      "text/plain": [
       "LogisticRegression(random_state=0)"
      ]
     },
     "execution_count": 139,
     "metadata": {},
     "output_type": "execute_result"
    }
   ],
   "source": [
    "lor.fit(X_train,y_train)"
   ]
  },
  {
   "cell_type": "code",
   "execution_count": 140,
   "metadata": {},
   "outputs": [],
   "source": [
    "y_pred=lor.predict(X_test)"
   ]
  },
  {
   "cell_type": "code",
   "execution_count": 141,
   "metadata": {},
   "outputs": [
    {
     "data": {
      "text/plain": [
       "0.618997249841337"
      ]
     },
     "execution_count": 141,
     "metadata": {},
     "output_type": "execute_result"
    }
   ],
   "source": [
    "accuracy_score(y_test, y_pred)"
   ]
  },
  {
   "cell_type": "code",
   "execution_count": 142,
   "metadata": {},
   "outputs": [
    {
     "name": "stderr",
     "output_type": "stream",
     "text": [
      "D:\\anaconda3\\lib\\site-packages\\sklearn\\linear_model\\_logistic.py:762: ConvergenceWarning: lbfgs failed to converge (status=1):\n",
      "STOP: TOTAL NO. of ITERATIONS REACHED LIMIT.\n",
      "\n",
      "Increase the number of iterations (max_iter) or scale the data as shown in:\n",
      "    https://scikit-learn.org/stable/modules/preprocessing.html\n",
      "Please also refer to the documentation for alternative solver options:\n",
      "    https://scikit-learn.org/stable/modules/linear_model.html#logistic-regression\n",
      "  n_iter_i = _check_optimize_result(\n",
      "D:\\anaconda3\\lib\\site-packages\\sklearn\\linear_model\\_logistic.py:762: ConvergenceWarning: lbfgs failed to converge (status=1):\n",
      "STOP: TOTAL NO. of ITERATIONS REACHED LIMIT.\n",
      "\n",
      "Increase the number of iterations (max_iter) or scale the data as shown in:\n",
      "    https://scikit-learn.org/stable/modules/preprocessing.html\n",
      "Please also refer to the documentation for alternative solver options:\n",
      "    https://scikit-learn.org/stable/modules/linear_model.html#logistic-regression\n",
      "  n_iter_i = _check_optimize_result(\n",
      "D:\\anaconda3\\lib\\site-packages\\sklearn\\linear_model\\_logistic.py:762: ConvergenceWarning: lbfgs failed to converge (status=1):\n",
      "STOP: TOTAL NO. of ITERATIONS REACHED LIMIT.\n",
      "\n",
      "Increase the number of iterations (max_iter) or scale the data as shown in:\n",
      "    https://scikit-learn.org/stable/modules/preprocessing.html\n",
      "Please also refer to the documentation for alternative solver options:\n",
      "    https://scikit-learn.org/stable/modules/linear_model.html#logistic-regression\n",
      "  n_iter_i = _check_optimize_result(\n",
      "D:\\anaconda3\\lib\\site-packages\\sklearn\\linear_model\\_logistic.py:762: ConvergenceWarning: lbfgs failed to converge (status=1):\n",
      "STOP: TOTAL NO. of ITERATIONS REACHED LIMIT.\n",
      "\n",
      "Increase the number of iterations (max_iter) or scale the data as shown in:\n",
      "    https://scikit-learn.org/stable/modules/preprocessing.html\n",
      "Please also refer to the documentation for alternative solver options:\n",
      "    https://scikit-learn.org/stable/modules/linear_model.html#logistic-regression\n",
      "  n_iter_i = _check_optimize_result(\n",
      "D:\\anaconda3\\lib\\site-packages\\sklearn\\linear_model\\_logistic.py:762: ConvergenceWarning: lbfgs failed to converge (status=1):\n",
      "STOP: TOTAL NO. of ITERATIONS REACHED LIMIT.\n",
      "\n",
      "Increase the number of iterations (max_iter) or scale the data as shown in:\n",
      "    https://scikit-learn.org/stable/modules/preprocessing.html\n",
      "Please also refer to the documentation for alternative solver options:\n",
      "    https://scikit-learn.org/stable/modules/linear_model.html#logistic-regression\n",
      "  n_iter_i = _check_optimize_result(\n"
     ]
    }
   ],
   "source": [
    "scores = cross_val_score(lor,X,y)"
   ]
  },
  {
   "cell_type": "code",
   "execution_count": 143,
   "metadata": {},
   "outputs": [
    {
     "data": {
      "text/plain": [
       "0.5969748254707002"
      ]
     },
     "execution_count": 143,
     "metadata": {},
     "output_type": "execute_result"
    }
   ],
   "source": [
    "np.mean(scores)"
   ]
  },
  {
   "cell_type": "markdown",
   "metadata": {},
   "source": [
    "# Clustering"
   ]
  },
  {
   "cell_type": "code",
   "execution_count": 19,
   "metadata": {},
   "outputs": [],
   "source": [
    "df1 = df.copy()\n",
    "df1.loc[df1[\"Severity\"] <= 2,\"Severity\"] = 0\n",
    "df1.loc[df1[\"Severity\"] >= 3,\"Severity\"] = 1"
   ]
  },
  {
   "cell_type": "code",
   "execution_count": 31,
   "metadata": {},
   "outputs": [],
   "source": [
    "state_group = df1.groupby(\"State\")\n",
    "city_group = df1.groupby(\"City\")"
   ]
  },
  {
   "cell_type": "code",
   "execution_count": 32,
   "metadata": {},
   "outputs": [],
   "source": [
    "state_severe = state_group[\"Severity\"].sum() / state_group[\"Severity\"].count()\n",
    "city_severe = city_group[\"Severity\"].sum() / city_group[\"Severity\"].count()"
   ]
  },
  {
   "cell_type": "code",
   "execution_count": 33,
   "metadata": {},
   "outputs": [],
   "source": [
    "state_sun = state_group[\"Sunrise_Sunset\"].sum() / state_group[\"Sunrise_Sunset\"].count()\n",
    "city_sun = city_group[\"Sunrise_Sunset\"].sum() / city_group[\"Sunrise_Sunset\"].count()"
   ]
  },
  {
   "cell_type": "code",
   "execution_count": 23,
   "metadata": {},
   "outputs": [],
   "source": [
    "state_info = pd.DataFrame({\n",
    "    \"Severity\" : state_severe,\n",
    "    \"at_Daytime\" : state_sun\n",
    "})"
   ]
  },
  {
   "cell_type": "code",
   "execution_count": 34,
   "metadata": {},
   "outputs": [],
   "source": [
    "city_info = pd.DataFrame({\n",
    "    \"Severity\" : city_severe,\n",
    "    \"at_Daytime\" : city_sun\n",
    "})"
   ]
  },
  {
   "cell_type": "code",
   "execution_count": 36,
   "metadata": {},
   "outputs": [
    {
     "data": {
      "text/plain": [
       "<matplotlib.collections.PathCollection at 0x1e3aff5c820>"
      ]
     },
     "execution_count": 36,
     "metadata": {},
     "output_type": "execute_result"
    },
    {
     "data": {
      "image/png": "[encoded data removed]",
      "text/plain": [
       "<Figure size 432x288 with 1 Axes>"
      ]
     },
     "metadata": {
      "needs_background": "light"
     },
     "output_type": "display_data"
    }
   ],
   "source": [
    "plt.scatter(x=\"Severity\",y=\"at_Daytime\",data=state_info)"
   ]
  },
  {
   "cell_type": "code",
   "execution_count": 37,
   "metadata": {},
   "outputs": [],
   "source": [
    "from sklearn.cluster import KMeans\n",
    "from sklearn.preprocessing import StandardScaler\n",
    "from sklearn.decomposition import PCA\n",
    "from sklearn.pipeline import make_pipeline\n",
    "from sklearn.datasets import make_blobs, make_moons"
   ]
  },
  {
   "cell_type": "code",
   "execution_count": 82,
   "metadata": {},
   "outputs": [],
   "source": [
    "X = state_info"
   ]
  },
  {
   "cell_type": "code",
   "execution_count": 83,
   "metadata": {},
   "outputs": [
    {
     "data": {
      "text/plain": [
       "KMeans(n_clusters=4, random_state=0)"
      ]
     },
     "execution_count": 83,
     "metadata": {},
     "output_type": "execute_result"
    }
   ],
   "source": [
    "kmeans = KMeans(n_clusters=4, random_state=0)\n",
    "kmeans.fit(X)"
   ]
  },
  {
   "cell_type": "code",
   "execution_count": 84,
   "metadata": {},
   "outputs": [],
   "source": [
    "y_kmeans = kmeans.predict(X)"
   ]
  },
  {
   "cell_type": "code",
   "execution_count": 85,
   "metadata": {},
   "outputs": [
    {
     "name": "stdout",
     "output_type": "stream",
     "text": [
      "[[0.35581591 0.73575805]\n",
      " [0.50711928 0.7750319 ]\n",
      " [0.72975023 0.58019233]\n",
      " [0.18760417 0.76072253]]\n"
     ]
    }
   ],
   "source": [
    "centers = kmeans.cluster_centers_\n",
    "print(centers)"
   ]
  },
  {
   "cell_type": "code",
   "execution_count": 86,
   "metadata": {},
   "outputs": [],
   "source": [
    "X1 = np.array(X)"
   ]
  },
  {
   "cell_type": "code",
   "execution_count": 87,
   "metadata": {},
   "outputs": [
    {
     "data": {
      "image/png": "[encoded data removed]",
      "text/plain": [
       "<Figure size 432x288 with 1 Axes>"
      ]
     },
     "metadata": {
      "needs_background": "light"
     },
     "output_type": "display_data"
    }
   ],
   "source": [
    "plt.scatter(X1[:, 0], X1[:, 1], c=y_kmeans, s=32, cmap=\"viridis\")\n",
    "plt.scatter(centers[:, 0], centers[:, 1], c='red', s=128, alpha=0.8);"
   ]
  },
  {
   "cell_type": "code",
   "execution_count": 81,
   "metadata": {},
   "outputs": [],
   "source": [
    "from sklearn.metrics import davies_bouldin_score"
   ]
  },
  {
   "cell_type": "code",
   "execution_count": null,
   "metadata": {},
   "outputs": [],
   "source": [
    "davies_bouldin_score(X1,)"
   ]
  },
  {
   "cell_type": "code",
   "execution_count": 79,
   "metadata": {},
   "outputs": [],
   "source": [
    "n_clusters = np.arange(1, 12)\n",
    "\n",
    "models = [KMeans(n,random_state=0).fit(X)\n",
    "         for n in n_clusters]\n",
    "\n",
    "metrics = [model.inertia_ for model in models]"
   ]
  },
  {
   "cell_type": "code",
   "execution_count": 80,
   "metadata": {},
   "outputs": [
    {
     "data": {
      "image/png": "[encoded data removed]",
      "text/plain": [
       "<Figure size 648x504 with 1 Axes>"
      ]
     },
     "metadata": {
      "needs_background": "light"
     },
     "output_type": "display_data"
    }
   ],
   "source": [
    "fig, ax = plt.subplots(figsize=(9,7))\n",
    "\n",
    "ax.plot(n_clusters, metrics, label='Interia')\n",
    "\n",
    "plt.legend(loc='best')\n",
    "plt.xlabel('n_clusters');"
   ]
  },
  {
   "cell_type": "code",
   "execution_count": null,
   "metadata": {},
   "outputs": [],
   "source": []
  }
 ],
 "metadata": {
  "kernelspec": {
   "display_name": "Python 3",
   "language": "python",
   "name": "python3"
  },
  "toc": {
   "base_numbering": 1,
   "nav_menu": {},
   "number_sections": true,
   "sideBar": true,
   "skip_h1_title": false,
   "title_cell": "Table of Contents",
   "title_sidebar": "Contents",
   "toc_cell": false,
   "toc_position": {},
   "toc_section_display": true,
   "toc_window_display": false
  }
 },
 "nbformat": 4,
 "nbformat_minor": 4
}
