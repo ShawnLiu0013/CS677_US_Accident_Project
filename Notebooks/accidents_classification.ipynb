{
 "cells": [
  {
   "cell_type": "code",
   "execution_count": 1,
   "metadata": {},
   "outputs": [],
   "source": [
    "import numpy as np\n",
    "import pandas as pd\n",
    "import matplotlib.pyplot as plt\n",
    "import seaborn as sns"
   ]
  },
  {
   "cell_type": "code",
   "execution_count": 224,
   "metadata": {},
   "outputs": [],
   "source": [
    "from sklearn.metrics import mean_squared_error, r2_score\n",
    "\n",
    "from sklearn import tree\n",
    "\n",
    "from sklearn.preprocessing import LabelEncoder \n",
    "\n",
    "from sklearn.naive_bayes import GaussianNB\n",
    "\n",
    "from sklearn.model_selection import train_test_split, cross_val_score"
   ]
  },
  {
   "cell_type": "code",
   "execution_count": 3,
   "metadata": {},
   "outputs": [],
   "source": [
    "df = pd.read_csv(\"US_Accidents_June20.csv\",index_col='ID',parse_dates=['Start_Time','End_Time'])"
   ]
  },
  {
   "cell_type": "code",
   "execution_count": 225,
   "metadata": {},
   "outputs": [],
   "source": [
    "from datetime import datetime, date"
   ]
  },
  {
   "cell_type": "code",
   "execution_count": 231,
   "metadata": {},
   "outputs": [
    {
     "name": "stdout",
     "output_type": "stream",
     "text": [
      "           Severity  Distance(mi)  Visibility(mi) Weather_Condition  \\\n",
      "ID                                                                    \n",
      "A-194264          2         0.000             3.0        Light Rain   \n",
      "A-194268          2         0.000             5.0              Rain   \n",
      "A-194269          3         0.010             5.0              Rain   \n",
      "A-194270          4         0.010             3.0        Light Rain   \n",
      "A-194271          3         0.010             6.0        Light Rain   \n",
      "...             ...           ...             ...               ...   \n",
      "A-3512289         2         0.418            10.0        Light Rain   \n",
      "A-3512823         2         0.327             1.0               Fog   \n",
      "A-3513364         2         0.163            10.0              Fair   \n",
      "A-3513370         2         0.442            10.0              Fair   \n",
      "A-3513380         2         0.545            10.0              Fair   \n",
      "\n",
      "          Sunrise_Sunset  \n",
      "ID                        \n",
      "A-194264             Day  \n",
      "A-194268           Night  \n",
      "A-194269             Day  \n",
      "A-194270             Day  \n",
      "A-194271             Day  \n",
      "...                  ...  \n",
      "A-3512289            Day  \n",
      "A-3512823            Day  \n",
      "A-3513364          Night  \n",
      "A-3513370            Day  \n",
      "A-3513380            Day  \n",
      "\n",
      "[36384 rows x 5 columns]\n"
     ]
    }
   ],
   "source": [
    "# adding time variables\n",
    "\n",
    "#df['Month'] = df['Start_Time'].dt.month\n",
    "#df['Year'] = df['Start_Time'].dt.year\n",
    "#df['Hour'] = df['Start_Time'].dt.hour\n",
    "#df['Weekday'] = df['Start_Time'].dt.weekday\n",
    "#df['Day'] = df['Start_Time'].dt.day\n",
    "#df['Impact'] = (df['End_Time'] - df['Start_Time']).dt.total_seconds()/60\n",
    "#df[\"YMD\"] = df[\"Start_Time\"].dt.date\n",
    "\n",
    "\n",
    "## Preprocessing for classification\n",
    "# Drop variables\n",
    "\n",
    "# select inputs\n",
    "\n",
    "drop_variables1 = ['Start_Time','End_Time','Start_Lat','Start_Lng','End_Lat','End_Lng']\n",
    "\n",
    "drop_variables2 = ['Civil_Twilight','Nautical_Twilight','Astronomical_Twilight']\n",
    "\n",
    "drop_variables3 = ['Civil_Twilight','Nautical_Twilight','Astronomical_Twilight']\n",
    "\n",
    "drop_variables4 = ['Description','Number','Zipcode','Airport_Code','Weather_Timestamp','Wind_Chill(F)']\n",
    "\n",
    "drop_variables5 = ['Street','Side','City','County','Country']\n",
    "\n",
    "drop_variables6 = ['Source','TMC','Timezone']\n",
    "\n",
    "drop_variables7 = ['Temperature(F)','Humidity(%)','Precipitation(in)','Pressure(in)','Wind_Direction','Wind_Speed(mph)']\n",
    "\n",
    "drop_variables8 = ['Amenity','Bump','Crossing','Give_Way','Junction','No_Exit','Railway','Roundabout','Station',\\\n",
    "                  'Station','Stop','Traffic_Calming','Traffic_Signal','Turning_Loop']\n",
    "                   \n",
    "df_dropped = df.drop(drop_variables1+drop_variables2+drop_variables3+drop_variables4+\\\n",
    "                     drop_variables5+drop_variables6+drop_variables7+drop_variables8 , axis='columns')\n",
    "\n",
    "\n",
    "df_reduced = df_dropped.dropna(how='any')\n",
    "\n",
    "\n",
    "#df_MA = df_reduced[df_reduced.loc[:,'State'] == [\"MA\",'NY','CA']]\n",
    "\n",
    "df_MA = df_reduced[df_reduced.State.isin(['MA'])]\n",
    "\n",
    "## Select inputs and output (target)\n",
    "X_MA = df_MA.drop(['State'],axis='columns')\n",
    "\n",
    "## We only leave Distance, Visibility, Weather_Condition, Sunrise_Sunset as features for classification\n",
    "\n",
    "#X_MA.head()\n",
    "\n",
    "print(X_MA)\n",
    "\n"
   ]
  },
  {
   "cell_type": "code",
   "execution_count": 232,
   "metadata": {},
   "outputs": [
    {
     "name": "stdout",
     "output_type": "stream",
     "text": [
      "[10.5, 0.0, 79.946, 0.0]\n"
     ]
    }
   ],
   "source": [
    "## Find max and min values in non-categorical values\n",
    "\n",
    "visibility_max = X_MA['Visibility(mi)'].max()\n",
    "visibility_min = X_MA['Visibility(mi)'].min()\n",
    "\n",
    "distance_max = X_MA['Distance(mi)'].max()\n",
    "distance_min = X_MA['Distance(mi)'].min()\n",
    "\n",
    "max_min = [visibility_max, visibility_min, distance_max, distance_min  ]\n",
    "\n",
    "print(max_min)\n",
    "\n",
    "#X_MA.head()\n"
   ]
  },
  {
   "cell_type": "code",
   "execution_count": 228,
   "metadata": {},
   "outputs": [
    {
     "name": "stdout",
     "output_type": "stream",
     "text": [
      "[-0.01, 9.99, 19.99, 29.99, 39.99, 49.99, 59.99, 69.99, 79.99, 89.99, 99.99]\n",
      "[-0.01, 1.09, 2.1900000000000004, 3.2900000000000005, 4.390000000000001, 5.49, 6.590000000000001, 7.690000000000001, 8.790000000000001, 9.89, 10.99]\n"
     ]
    }
   ],
   "source": [
    "## Bin numerical data\n",
    "\n",
    "bins_visibility = [1.1*i-0.01 for i in range(0,11)]\n",
    "bins_distance = [10*i-0.01 for i in range(0,11)]\n",
    "\n",
    "X_MA['Distance(mi)_b'] = pd.cut(X_MA['Distance(mi)'],bins_distance)\n",
    "X_MA['Visibility(mi)_b'] = pd.cut(X_MA['Visibility(mi)'],bins_visibility)\n",
    "\n",
    "X_MA_drop = X_MA.drop(['Distance(mi)','Visibility(mi)'], axis='columns')\n",
    "\n",
    "\n",
    "print(bins_distance)\n",
    "print(bins_visibility)\n",
    "\n",
    "#print(X_MA_drop)\n"
   ]
  },
  {
   "cell_type": "code",
   "execution_count": 233,
   "metadata": {},
   "outputs": [
    {
     "name": "stdout",
     "output_type": "stream",
     "text": [
      "ID\n",
      "A-194264     2\n",
      "A-194268     2\n",
      "A-194269     3\n",
      "A-194270     4\n",
      "A-194271     3\n",
      "            ..\n",
      "A-3512289    2\n",
      "A-3512823    2\n",
      "A-3513364    2\n",
      "A-3513370    2\n",
      "A-3513380    2\n",
      "Name: Severity, Length: 36384, dtype: int64\n",
      "Weather_Condition => ['Blowing Snow' 'Clear' 'Cloudy' 'Cloudy / Windy' 'Fair' 'Fair / Windy'\n",
      " 'Fog' 'Haze' 'Heavy Rain' 'Heavy Rain / Windy' 'Heavy Snow'\n",
      " 'Heavy T-Storm' 'Heavy T-Storm / Windy' 'Heavy Thunderstorms and Rain'\n",
      " 'Ice Pellets' 'Light Drizzle' 'Light Drizzle / Windy'\n",
      " 'Light Freezing Drizzle' 'Light Freezing Fog' 'Light Freezing Rain'\n",
      " 'Light Rain' 'Light Rain / Windy' 'Light Rain with Thunder' 'Light Snow'\n",
      " 'Light Snow / Windy' 'Light Snow and Sleet'\n",
      " 'Light Thunderstorms and Rain' 'Mist' 'Mostly Cloudy'\n",
      " 'Mostly Cloudy / Windy' 'N/A Precipitation' 'Overcast' 'Partly Cloudy'\n",
      " 'Partly Cloudy / Windy' 'Patches of Fog' 'Rain' 'Rain / Windy'\n",
      " 'Scattered Clouds' 'Shallow Fog' 'Small Hail' 'Smoke' 'Snow' 'Squalls'\n",
      " 'T-Storm' 'Thunder' 'Thunder in the Vicinity' 'Thunderstorm'\n",
      " 'Thunderstorms and Rain' 'Wintry Mix']\n",
      "Sunrise_Sunset => ['Day' 'Night']\n",
      "Distance(mi)_b => [Interval(-0.01, 9.99, closed='right')\n",
      " Interval(9.99, 19.99, closed='right')\n",
      " Interval(19.99, 29.99, closed='right')\n",
      " Interval(39.99, 49.99, closed='right')\n",
      " Interval(69.99, 79.99, closed='right')]\n",
      "Visibility(mi)_b => [Interval(-0.01, 1.09, closed='right')\n",
      " Interval(1.09, 2.19, closed='right') Interval(2.19, 3.29, closed='right')\n",
      " Interval(3.29, 4.39, closed='right') Interval(4.39, 5.49, closed='right')\n",
      " Interval(5.49, 6.59, closed='right') Interval(6.59, 7.69, closed='right')\n",
      " Interval(7.69, 8.79, closed='right') Interval(8.79, 9.89, closed='right')\n",
      " Interval(9.89, 10.99, closed='right')]\n"
     ]
    }
   ],
   "source": [
    "\n",
    "X_MA_d = X_MA_drop.drop( ['Severity'], axis='columns')\n",
    "Y_MA = X_MA_drop['Severity']\n",
    "\n",
    "#X_MA_d = X_MA_x.dropna(how='any')\n",
    "#Y_MA = X_MA_x['Severity']\n",
    "\n",
    "\n",
    "print(Y_MA)\n",
    "\n",
    "\n",
    "## Encoding\n",
    "\n",
    "X_MA_d.head()\n",
    "\n",
    "\n",
    "le = {}\n",
    "for col in X_MA_d.columns:\n",
    "    le[col] = LabelEncoder()\n",
    "    le[col].fit(X_MA_d[col].unique())\n",
    "    print('{0:12s} => {1}'.format(col, le[col].classes_))\n",
    "    X_MA_d[col] = le[col].transform(X_MA_d.loc[:,col])\n",
    "    \n",
    "\n",
    "#Y_MA.head()\n",
    "\n",
    "\n",
    "\n"
   ]
  },
  {
   "cell_type": "code",
   "execution_count": 239,
   "metadata": {},
   "outputs": [],
   "source": [
    "\n",
    "## Data range selection\n",
    "\n",
    "#Y_MA.shape[0]\n",
    "\n",
    "index = 27000\n",
    "\n",
    "X_MA_training = X_MA_d.iloc[1:index,:]\n",
    "Y_MA_training = Y_MA.iloc[1:index]\n",
    "\n",
    "X_MA_testing = X_MA_d.iloc[index:36384,:]\n",
    "Y_MA_testing = Y_MA.iloc[index:36384]\n",
    "\n",
    "\n"
   ]
  },
  {
   "cell_type": "code",
   "execution_count": 240,
   "metadata": {},
   "outputs": [
    {
     "data": {
      "text/plain": [
       "DecisionTreeClassifier(ccp_alpha=0.0, class_weight=None, criterion='gini',\n",
       "                       max_depth=None, max_features=None, max_leaf_nodes=None,\n",
       "                       min_impurity_decrease=0.0, min_impurity_split=None,\n",
       "                       min_samples_leaf=1, min_samples_split=2,\n",
       "                       min_weight_fraction_leaf=0.0, presort='deprecated',\n",
       "                       random_state=None, splitter='best')"
      ]
     },
     "execution_count": 240,
     "metadata": {},
     "output_type": "execute_result"
    }
   ],
   "source": [
    "## Train classifier\n",
    "\n",
    "model = tree.DecisionTreeClassifier()\n",
    "model.fit(X_MA_training, Y_MA_training)\n",
    "\n"
   ]
  },
  {
   "cell_type": "code",
   "execution_count": 241,
   "metadata": {},
   "outputs": [
    {
     "data": {
      "text/plain": [
       "0.5752344416027281"
      ]
     },
     "execution_count": 241,
     "metadata": {},
     "output_type": "execute_result"
    }
   ],
   "source": [
    "## Scores\n",
    "\n",
    "\n",
    "model.score(X_MA_testing, Y_MA_testing)\n",
    "\n"
   ]
  },
  {
   "cell_type": "code",
   "execution_count": 181,
   "metadata": {},
   "outputs": [
    {
     "name": "stdout",
     "output_type": "stream",
     "text": [
      "Number of mislabeled points out of a total 9384 points : 3958, performance 57.82%\n"
     ]
    }
   ],
   "source": [
    "# Gauss Naive Bayes\n",
    "\n",
    "gnb = GaussianNB()\n",
    "\n",
    "# Train classifier\n",
    "\n",
    "gnb.fit( X_MA_training, Y_MA_training)\n",
    "\n",
    "y_pred = gnb.predict(X_MA_testing)\n",
    "\n",
    "print(\"Number of mislabeled points out of a total {} points : {}, performance {:05.2f}%\"\n",
    "      .format(\n",
    "          X_MA_testing.shape[0],\n",
    "          (Y_MA_testing != y_pred).sum(),\n",
    "          100*(1-(Y_MA_testing != y_pred).sum()/X_MA_testing.shape[0])\n",
    "))\n",
    "\n",
    "\n",
    "\n"
   ]
  },
  {
   "cell_type": "code",
   "execution_count": null,
   "metadata": {},
   "outputs": [],
   "source": []
  },
  {
   "cell_type": "code",
   "execution_count": null,
   "metadata": {},
   "outputs": [],
   "source": []
  }
 ],
 "metadata": {
  "kernelspec": {
   "display_name": "Python 3",
   "language": "python",
   "name": "python3"
  },
  "language_info": {
   "codemirror_mode": {
    "name": "ipython",
    "version": 3
   },
   "file_extension": ".py",
   "mimetype": "text/x-python",
   "name": "python",
   "nbconvert_exporter": "python",
   "pygments_lexer": "ipython3",
   "version": "3.7.6"
  },
  "toc": {
   "base_numbering": 1,
   "nav_menu": {},
   "number_sections": true,
   "sideBar": true,
   "skip_h1_title": false,
   "title_cell": "Table of Contents",
   "title_sidebar": "Contents",
   "toc_cell": false,
   "toc_position": {},
   "toc_section_display": true,
   "toc_window_display": false
  }
 },
 "nbformat": 4,
 "nbformat_minor": 4
}
